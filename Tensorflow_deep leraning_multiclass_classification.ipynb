{
 "cells": [
  {
   "cell_type": "code",
   "execution_count": 4,
   "id": "79c97b43",
   "metadata": {},
   "outputs": [],
   "source": [
    "\n",
    "from tensorflow.keras.layers import Dense\n",
    "from tensorflow.keras import Sequential\n",
    "from sklearn.preprocessing import LabelEncoder\n",
    "\n"
   ]
  },
  {
   "cell_type": "code",
   "execution_count": 5,
   "id": "59898e62",
   "metadata": {},
   "outputs": [],
   "source": [
    "import pandas as pd\n",
    "df=pd.read_csv(r'C:\\Users\\elham\\Desktop\\excel2\\IRIS.csv')"
   ]
  },
  {
   "cell_type": "code",
   "execution_count": 6,
   "id": "b7203a08",
   "metadata": {},
   "outputs": [
    {
     "data": {
      "text/html": [
       "<div>\n",
       "<style scoped>\n",
       "    .dataframe tbody tr th:only-of-type {\n",
       "        vertical-align: middle;\n",
       "    }\n",
       "\n",
       "    .dataframe tbody tr th {\n",
       "        vertical-align: top;\n",
       "    }\n",
       "\n",
       "    .dataframe thead th {\n",
       "        text-align: right;\n",
       "    }\n",
       "</style>\n",
       "<table border=\"1\" class=\"dataframe\">\n",
       "  <thead>\n",
       "    <tr style=\"text-align: right;\">\n",
       "      <th></th>\n",
       "      <th>sepal_length</th>\n",
       "      <th>sepal_width</th>\n",
       "      <th>petal_length</th>\n",
       "      <th>petal_width</th>\n",
       "      <th>species</th>\n",
       "    </tr>\n",
       "  </thead>\n",
       "  <tbody>\n",
       "    <tr>\n",
       "      <th>0</th>\n",
       "      <td>5.1</td>\n",
       "      <td>3.5</td>\n",
       "      <td>1.4</td>\n",
       "      <td>0.2</td>\n",
       "      <td>Iris-setosa</td>\n",
       "    </tr>\n",
       "    <tr>\n",
       "      <th>1</th>\n",
       "      <td>4.9</td>\n",
       "      <td>3.0</td>\n",
       "      <td>1.4</td>\n",
       "      <td>0.2</td>\n",
       "      <td>Iris-setosa</td>\n",
       "    </tr>\n",
       "  </tbody>\n",
       "</table>\n",
       "</div>"
      ],
      "text/plain": [
       "   sepal_length  sepal_width  petal_length  petal_width      species\n",
       "0           5.1          3.5           1.4          0.2  Iris-setosa\n",
       "1           4.9          3.0           1.4          0.2  Iris-setosa"
      ]
     },
     "execution_count": 6,
     "metadata": {},
     "output_type": "execute_result"
    }
   ],
   "source": [
    "df.head(2)"
   ]
  },
  {
   "cell_type": "code",
   "execution_count": 7,
   "id": "35b61a82",
   "metadata": {},
   "outputs": [
    {
     "data": {
      "text/html": [
       "<div>\n",
       "<style scoped>\n",
       "    .dataframe tbody tr th:only-of-type {\n",
       "        vertical-align: middle;\n",
       "    }\n",
       "\n",
       "    .dataframe tbody tr th {\n",
       "        vertical-align: top;\n",
       "    }\n",
       "\n",
       "    .dataframe thead th {\n",
       "        text-align: right;\n",
       "    }\n",
       "</style>\n",
       "<table border=\"1\" class=\"dataframe\">\n",
       "  <thead>\n",
       "    <tr style=\"text-align: right;\">\n",
       "      <th></th>\n",
       "      <th>sepal_length</th>\n",
       "      <th>sepal_width</th>\n",
       "      <th>petal_length</th>\n",
       "      <th>petal_width</th>\n",
       "    </tr>\n",
       "  </thead>\n",
       "  <tbody>\n",
       "    <tr>\n",
       "      <th>count</th>\n",
       "      <td>150.000000</td>\n",
       "      <td>150.000000</td>\n",
       "      <td>150.000000</td>\n",
       "      <td>150.000000</td>\n",
       "    </tr>\n",
       "    <tr>\n",
       "      <th>mean</th>\n",
       "      <td>5.843333</td>\n",
       "      <td>3.054000</td>\n",
       "      <td>3.758667</td>\n",
       "      <td>1.198667</td>\n",
       "    </tr>\n",
       "    <tr>\n",
       "      <th>std</th>\n",
       "      <td>0.828066</td>\n",
       "      <td>0.433594</td>\n",
       "      <td>1.764420</td>\n",
       "      <td>0.763161</td>\n",
       "    </tr>\n",
       "    <tr>\n",
       "      <th>min</th>\n",
       "      <td>4.300000</td>\n",
       "      <td>2.000000</td>\n",
       "      <td>1.000000</td>\n",
       "      <td>0.100000</td>\n",
       "    </tr>\n",
       "    <tr>\n",
       "      <th>25%</th>\n",
       "      <td>5.100000</td>\n",
       "      <td>2.800000</td>\n",
       "      <td>1.600000</td>\n",
       "      <td>0.300000</td>\n",
       "    </tr>\n",
       "    <tr>\n",
       "      <th>50%</th>\n",
       "      <td>5.800000</td>\n",
       "      <td>3.000000</td>\n",
       "      <td>4.350000</td>\n",
       "      <td>1.300000</td>\n",
       "    </tr>\n",
       "    <tr>\n",
       "      <th>75%</th>\n",
       "      <td>6.400000</td>\n",
       "      <td>3.300000</td>\n",
       "      <td>5.100000</td>\n",
       "      <td>1.800000</td>\n",
       "    </tr>\n",
       "    <tr>\n",
       "      <th>max</th>\n",
       "      <td>7.900000</td>\n",
       "      <td>4.400000</td>\n",
       "      <td>6.900000</td>\n",
       "      <td>2.500000</td>\n",
       "    </tr>\n",
       "  </tbody>\n",
       "</table>\n",
       "</div>"
      ],
      "text/plain": [
       "       sepal_length  sepal_width  petal_length  petal_width\n",
       "count    150.000000   150.000000    150.000000   150.000000\n",
       "mean       5.843333     3.054000      3.758667     1.198667\n",
       "std        0.828066     0.433594      1.764420     0.763161\n",
       "min        4.300000     2.000000      1.000000     0.100000\n",
       "25%        5.100000     2.800000      1.600000     0.300000\n",
       "50%        5.800000     3.000000      4.350000     1.300000\n",
       "75%        6.400000     3.300000      5.100000     1.800000\n",
       "max        7.900000     4.400000      6.900000     2.500000"
      ]
     },
     "execution_count": 7,
     "metadata": {},
     "output_type": "execute_result"
    }
   ],
   "source": [
    "df.describe()"
   ]
  },
  {
   "cell_type": "code",
   "execution_count": 8,
   "id": "17e95f5c",
   "metadata": {},
   "outputs": [
    {
     "data": {
      "text/plain": [
       "Index(['sepal_length', 'sepal_width', 'petal_length', 'petal_width',\n",
       "       'species'],\n",
       "      dtype='object')"
      ]
     },
     "execution_count": 8,
     "metadata": {},
     "output_type": "execute_result"
    }
   ],
   "source": [
    "df.columns"
   ]
  },
  {
   "cell_type": "code",
   "execution_count": 9,
   "id": "d03a8900",
   "metadata": {},
   "outputs": [
    {
     "name": "stdout",
     "output_type": "stream",
     "text": [
      "<class 'pandas.core.frame.DataFrame'>\n",
      "RangeIndex: 150 entries, 0 to 149\n",
      "Data columns (total 5 columns):\n",
      " #   Column        Non-Null Count  Dtype  \n",
      "---  ------        --------------  -----  \n",
      " 0   sepal_length  150 non-null    float64\n",
      " 1   sepal_width   150 non-null    float64\n",
      " 2   petal_length  150 non-null    float64\n",
      " 3   petal_width   150 non-null    float64\n",
      " 4   species       150 non-null    object \n",
      "dtypes: float64(4), object(1)\n",
      "memory usage: 6.0+ KB\n"
     ]
    }
   ],
   "source": [
    "df.info()"
   ]
  },
  {
   "cell_type": "code",
   "execution_count": 10,
   "id": "9528dee5",
   "metadata": {},
   "outputs": [],
   "source": [
    "x,y=df.iloc[:,:-1],df.iloc[:,-1]"
   ]
  },
  {
   "cell_type": "code",
   "execution_count": 41,
   "id": "5989635b",
   "metadata": {},
   "outputs": [
    {
     "data": {
      "text/plain": [
       "dtype('int64')"
      ]
     },
     "execution_count": 41,
     "metadata": {},
     "output_type": "execute_result"
    }
   ],
   "source": [
    "y.dtype"
   ]
  },
  {
   "cell_type": "code",
   "execution_count": 11,
   "id": "cd258435",
   "metadata": {},
   "outputs": [
    {
     "data": {
      "text/html": [
       "<div>\n",
       "<style scoped>\n",
       "    .dataframe tbody tr th:only-of-type {\n",
       "        vertical-align: middle;\n",
       "    }\n",
       "\n",
       "    .dataframe tbody tr th {\n",
       "        vertical-align: top;\n",
       "    }\n",
       "\n",
       "    .dataframe thead th {\n",
       "        text-align: right;\n",
       "    }\n",
       "</style>\n",
       "<table border=\"1\" class=\"dataframe\">\n",
       "  <thead>\n",
       "    <tr style=\"text-align: right;\">\n",
       "      <th></th>\n",
       "      <th>sepal_length</th>\n",
       "      <th>sepal_width</th>\n",
       "      <th>petal_length</th>\n",
       "      <th>petal_width</th>\n",
       "    </tr>\n",
       "  </thead>\n",
       "  <tbody>\n",
       "    <tr>\n",
       "      <th>0</th>\n",
       "      <td>5.1</td>\n",
       "      <td>3.5</td>\n",
       "      <td>1.4</td>\n",
       "      <td>0.2</td>\n",
       "    </tr>\n",
       "    <tr>\n",
       "      <th>1</th>\n",
       "      <td>4.9</td>\n",
       "      <td>3.0</td>\n",
       "      <td>1.4</td>\n",
       "      <td>0.2</td>\n",
       "    </tr>\n",
       "  </tbody>\n",
       "</table>\n",
       "</div>"
      ],
      "text/plain": [
       "   sepal_length  sepal_width  petal_length  petal_width\n",
       "0           5.1          3.5           1.4          0.2\n",
       "1           4.9          3.0           1.4          0.2"
      ]
     },
     "execution_count": 11,
     "metadata": {},
     "output_type": "execute_result"
    }
   ],
   "source": [
    "x.head(2)"
   ]
  },
  {
   "cell_type": "code",
   "execution_count": 12,
   "id": "5e051bd2",
   "metadata": {},
   "outputs": [
    {
     "data": {
      "text/plain": [
       "0    Iris-setosa\n",
       "1    Iris-setosa\n",
       "Name: species, dtype: object"
      ]
     },
     "execution_count": 12,
     "metadata": {},
     "output_type": "execute_result"
    }
   ],
   "source": [
    "y.head(2)"
   ]
  },
  {
   "cell_type": "code",
   "execution_count": 19,
   "id": "b31aeacb",
   "metadata": {},
   "outputs": [
    {
     "data": {
      "text/plain": [
       "array([0, 0, 0, 0, 0, 0, 0, 0, 0], dtype=int64)"
      ]
     },
     "execution_count": 19,
     "metadata": {},
     "output_type": "execute_result"
    }
   ],
   "source": [
    "y=LabelEncoder().fit_transform(y)\n",
    "y[:9]\n"
   ]
  },
  {
   "cell_type": "code",
   "execution_count": 20,
   "id": "ce22dab7",
   "metadata": {},
   "outputs": [],
   "source": [
    "x=x.astype('float32')"
   ]
  },
  {
   "cell_type": "code",
   "execution_count": 21,
   "id": "79ae1931",
   "metadata": {},
   "outputs": [
    {
     "name": "stdout",
     "output_type": "stream",
     "text": [
      "<class 'pandas.core.frame.DataFrame'>\n",
      "RangeIndex: 150 entries, 0 to 149\n",
      "Data columns (total 4 columns):\n",
      " #   Column        Non-Null Count  Dtype  \n",
      "---  ------        --------------  -----  \n",
      " 0   sepal_length  150 non-null    float32\n",
      " 1   sepal_width   150 non-null    float32\n",
      " 2   petal_length  150 non-null    float32\n",
      " 3   petal_width   150 non-null    float32\n",
      "dtypes: float32(4)\n",
      "memory usage: 2.5 KB\n"
     ]
    }
   ],
   "source": [
    "x.info()"
   ]
  },
  {
   "cell_type": "code",
   "execution_count": 22,
   "id": "17735b52",
   "metadata": {},
   "outputs": [
    {
     "data": {
      "text/html": [
       "<div>\n",
       "<style scoped>\n",
       "    .dataframe tbody tr th:only-of-type {\n",
       "        vertical-align: middle;\n",
       "    }\n",
       "\n",
       "    .dataframe tbody tr th {\n",
       "        vertical-align: top;\n",
       "    }\n",
       "\n",
       "    .dataframe thead th {\n",
       "        text-align: right;\n",
       "    }\n",
       "</style>\n",
       "<table border=\"1\" class=\"dataframe\">\n",
       "  <thead>\n",
       "    <tr style=\"text-align: right;\">\n",
       "      <th></th>\n",
       "      <th>sepal_length</th>\n",
       "      <th>sepal_width</th>\n",
       "      <th>petal_length</th>\n",
       "      <th>petal_width</th>\n",
       "    </tr>\n",
       "  </thead>\n",
       "  <tbody>\n",
       "    <tr>\n",
       "      <th>0</th>\n",
       "      <td>5.1</td>\n",
       "      <td>3.5</td>\n",
       "      <td>1.4</td>\n",
       "      <td>0.2</td>\n",
       "    </tr>\n",
       "    <tr>\n",
       "      <th>1</th>\n",
       "      <td>4.9</td>\n",
       "      <td>3.0</td>\n",
       "      <td>1.4</td>\n",
       "      <td>0.2</td>\n",
       "    </tr>\n",
       "  </tbody>\n",
       "</table>\n",
       "</div>"
      ],
      "text/plain": [
       "   sepal_length  sepal_width  petal_length  petal_width\n",
       "0           5.1          3.5           1.4          0.2\n",
       "1           4.9          3.0           1.4          0.2"
      ]
     },
     "execution_count": 22,
     "metadata": {},
     "output_type": "execute_result"
    }
   ],
   "source": [
    "x.head(2)"
   ]
  },
  {
   "cell_type": "code",
   "execution_count": 26,
   "id": "17e32666",
   "metadata": {},
   "outputs": [
    {
     "data": {
      "text/plain": [
       "array([[-9.00681257e-01,  1.03205729e+00, -1.34127235e+00,\n",
       "        -1.31297672e+00],\n",
       "       [-1.14301682e+00, -1.24957606e-01, -1.34127235e+00,\n",
       "        -1.31297672e+00],\n",
       "       [-1.38535297e+00,  3.37848425e-01, -1.39813817e+00,\n",
       "        -1.31297672e+00],\n",
       "       [-1.50652075e+00,  1.06445141e-01, -1.28440678e+00,\n",
       "        -1.31297672e+00],\n",
       "       [-1.02184904e+00,  1.26345992e+00, -1.34127235e+00,\n",
       "        -1.31297672e+00],\n",
       "       [-5.37177444e-01,  1.95766926e+00, -1.17067528e+00,\n",
       "        -1.05003083e+00],\n",
       "       [-1.50652075e+00,  8.00654531e-01, -1.34127235e+00,\n",
       "        -1.18150365e+00],\n",
       "       [-1.02184904e+00,  8.00654531e-01, -1.28440678e+00,\n",
       "        -1.31297672e+00],\n",
       "       [-1.74885619e+00, -3.56360346e-01, -1.34127235e+00,\n",
       "        -1.31297672e+00],\n",
       "       [-1.14301682e+00,  1.06445141e-01, -1.28440678e+00,\n",
       "        -1.44444966e+00],\n",
       "       [-5.37177444e-01,  1.49486327e+00, -1.28440678e+00,\n",
       "        -1.31297672e+00],\n",
       "       [-1.26418459e+00,  8.00654531e-01, -1.22754097e+00,\n",
       "        -1.31297672e+00],\n",
       "       [-1.26418459e+00, -1.24957606e-01, -1.34127235e+00,\n",
       "        -1.44444966e+00],\n",
       "       [-1.87002397e+00, -1.24957606e-01, -1.51186943e+00,\n",
       "        -1.44444966e+00],\n",
       "       [-5.25058322e-02,  2.18907189e+00, -1.45500386e+00,\n",
       "        -1.31297672e+00],\n",
       "       [-1.73674181e-01,  3.11468410e+00, -1.28440678e+00,\n",
       "        -1.05003083e+00],\n",
       "       [-5.37177444e-01,  1.95766926e+00, -1.39813817e+00,\n",
       "        -1.05003083e+00],\n",
       "       [-9.00681257e-01,  1.03205729e+00, -1.34127235e+00,\n",
       "        -1.18150365e+00],\n",
       "       [-1.73674181e-01,  1.72626591e+00, -1.17067528e+00,\n",
       "        -1.18150365e+00],\n",
       "       [-9.00681257e-01,  1.72626591e+00, -1.28440678e+00,\n",
       "        -1.18150365e+00],\n",
       "       [-5.37177444e-01,  8.00654531e-01, -1.17067528e+00,\n",
       "        -1.31297672e+00],\n",
       "       [-9.00681257e-01,  1.49486327e+00, -1.28440678e+00,\n",
       "        -1.05003083e+00],\n",
       "       [-1.50652075e+00,  1.26345992e+00, -1.56873524e+00,\n",
       "        -1.31297672e+00],\n",
       "       [-9.00681257e-01,  5.69251180e-01, -1.17067528e+00,\n",
       "        -9.18557763e-01],\n",
       "       [-1.26418459e+00,  8.00654531e-01, -1.05694389e+00,\n",
       "        -1.31297672e+00],\n",
       "       [-1.02184904e+00, -1.24957606e-01, -1.22754097e+00,\n",
       "        -1.31297672e+00],\n",
       "       [-1.02184904e+00,  8.00654531e-01, -1.22754097e+00,\n",
       "        -1.05003083e+00],\n",
       "       [-7.79513538e-01,  1.03205729e+00, -1.28440678e+00,\n",
       "        -1.31297672e+00],\n",
       "       [-7.79513538e-01,  8.00654531e-01, -1.34127235e+00,\n",
       "        -1.31297672e+00],\n",
       "       [-1.38535297e+00,  3.37848425e-01, -1.22754097e+00,\n",
       "        -1.31297672e+00],\n",
       "       [-1.26418459e+00,  1.06445141e-01, -1.22754097e+00,\n",
       "        -1.31297672e+00],\n",
       "       [-5.37177444e-01,  8.00654531e-01, -1.28440678e+00,\n",
       "        -1.05003083e+00],\n",
       "       [-7.79513538e-01,  2.42047477e+00, -1.28440678e+00,\n",
       "        -1.44444966e+00],\n",
       "       [-4.16009694e-01,  2.65187740e+00, -1.34127235e+00,\n",
       "        -1.31297672e+00],\n",
       "       [-1.14301682e+00,  1.06445141e-01, -1.28440678e+00,\n",
       "        -1.44444966e+00],\n",
       "       [-1.02184904e+00,  3.37848425e-01, -1.45500386e+00,\n",
       "        -1.31297672e+00],\n",
       "       [-4.16009694e-01,  1.03205729e+00, -1.39813817e+00,\n",
       "        -1.31297672e+00],\n",
       "       [-1.14301682e+00,  1.06445141e-01, -1.28440678e+00,\n",
       "        -1.44444966e+00],\n",
       "       [-1.74885619e+00, -1.24957606e-01, -1.39813817e+00,\n",
       "        -1.31297672e+00],\n",
       "       [-9.00681257e-01,  8.00654531e-01, -1.28440678e+00,\n",
       "        -1.31297672e+00],\n",
       "       [-1.02184904e+00,  1.03205729e+00, -1.39813817e+00,\n",
       "        -1.18150365e+00],\n",
       "       [-1.62768841e+00, -1.74477851e+00, -1.39813817e+00,\n",
       "        -1.18150365e+00],\n",
       "       [-1.74885619e+00,  3.37848425e-01, -1.39813817e+00,\n",
       "        -1.31297672e+00],\n",
       "       [-1.02184904e+00,  1.03205729e+00, -1.22754097e+00,\n",
       "        -7.87084758e-01],\n",
       "       [-9.00681257e-01,  1.72626591e+00, -1.05694389e+00,\n",
       "        -1.05003083e+00],\n",
       "       [-1.26418459e+00, -1.24957606e-01, -1.34127235e+00,\n",
       "        -1.18150365e+00],\n",
       "       [-9.00681257e-01,  1.72626591e+00, -1.22754097e+00,\n",
       "        -1.31297672e+00],\n",
       "       [-1.50652075e+00,  3.37848425e-01, -1.34127235e+00,\n",
       "        -1.31297672e+00],\n",
       "       [-6.58345163e-01,  1.49486327e+00, -1.28440678e+00,\n",
       "        -1.31297672e+00],\n",
       "       [-1.02184904e+00,  5.69251180e-01, -1.34127235e+00,\n",
       "        -1.31297672e+00],\n",
       "       [ 1.40150833e+00,  3.37848425e-01,  5.35295725e-01,\n",
       "         2.64698893e-01],\n",
       "       [ 6.74501300e-01,  3.37848425e-01,  4.21564430e-01,\n",
       "         3.96171898e-01],\n",
       "       [ 1.28034055e+00,  1.06445141e-01,  6.49027288e-01,\n",
       "         3.96171898e-01],\n",
       "       [-4.16009694e-01, -1.74477851e+00,  1.37235940e-01,\n",
       "         1.33225903e-01],\n",
       "       [ 7.95669079e-01, -5.87763608e-01,  4.78430092e-01,\n",
       "         3.96171898e-01],\n",
       "       [-1.73674181e-01, -5.87763608e-01,  4.21564430e-01,\n",
       "         1.33225903e-01],\n",
       "       [ 5.53333521e-01,  5.69251180e-01,  5.35295725e-01,\n",
       "         5.27644873e-01],\n",
       "       [-1.14301682e+00, -1.51337516e+00, -2.60824054e-01,\n",
       "        -2.61192977e-01],\n",
       "       [ 9.16836798e-01, -3.56360346e-01,  4.78430092e-01,\n",
       "         1.33225903e-01],\n",
       "       [-7.79513538e-01, -8.19166362e-01,  8.03702772e-02,\n",
       "         2.64698893e-01],\n",
       "       [-1.02184904e+00, -2.43898726e+00, -1.47092596e-01,\n",
       "        -2.61192977e-01],\n",
       "       [ 6.86619356e-02, -1.24957606e-01,  2.50967205e-01,\n",
       "         3.96171898e-01],\n",
       "       [ 1.89829662e-01, -1.97618127e+00,  1.37235940e-01,\n",
       "        -2.61192977e-01],\n",
       "       [ 3.10997427e-01, -3.56360346e-01,  5.35295725e-01,\n",
       "         2.64698893e-01],\n",
       "       [-2.94841945e-01, -3.56360346e-01, -9.02269483e-02,\n",
       "         1.33225903e-01],\n",
       "       [ 1.03800464e+00,  1.06445141e-01,  3.64698797e-01,\n",
       "         2.64698893e-01],\n",
       "       [-2.94841945e-01, -1.24957606e-01,  4.21564430e-01,\n",
       "         3.96171898e-01],\n",
       "       [-5.25058322e-02, -8.19166362e-01,  1.94101587e-01,\n",
       "        -2.61192977e-01],\n",
       "       [ 4.32165176e-01, -1.97618127e+00,  4.21564430e-01,\n",
       "         3.96171898e-01],\n",
       "       [-2.94841945e-01, -1.28197253e+00,  8.03702772e-02,\n",
       "        -1.29719958e-01],\n",
       "       [ 6.86619356e-02,  3.37848425e-01,  5.92161655e-01,\n",
       "         7.90590763e-01],\n",
       "       [ 3.10997427e-01, -5.87763608e-01,  1.37235940e-01,\n",
       "         1.33225903e-01],\n",
       "       [ 5.53333521e-01, -1.28197253e+00,  6.49027288e-01,\n",
       "         3.96171898e-01],\n",
       "       [ 3.10997427e-01, -5.87763608e-01,  5.35295725e-01,\n",
       "         1.75304001e-03],\n",
       "       [ 6.74501300e-01, -3.56360346e-01,  3.07833135e-01,\n",
       "         1.33225903e-01],\n",
       "       [ 9.16836798e-01, -1.24957606e-01,  3.64698797e-01,\n",
       "         2.64698893e-01],\n",
       "       [ 1.15917289e+00, -5.87763608e-01,  5.92161655e-01,\n",
       "         2.64698893e-01],\n",
       "       [ 1.03800464e+00, -1.24957606e-01,  7.05892980e-01,\n",
       "         6.59117937e-01],\n",
       "       [ 1.89829662e-01, -3.56360346e-01,  4.21564430e-01,\n",
       "         3.96171898e-01],\n",
       "       [-1.73674181e-01, -1.05056965e+00, -1.47092596e-01,\n",
       "        -2.61192977e-01],\n",
       "       [-4.16009694e-01, -1.51337516e+00,  2.35044900e-02,\n",
       "        -1.29719958e-01],\n",
       "       [-4.16009694e-01, -1.51337516e+00, -3.33611630e-02,\n",
       "        -2.61192977e-01],\n",
       "       [-5.25058322e-02, -8.19166362e-01,  8.03702772e-02,\n",
       "         1.75304001e-03],\n",
       "       [ 1.89829662e-01, -8.19166362e-01,  7.62758613e-01,\n",
       "         5.27644873e-01],\n",
       "       [-5.37177444e-01, -1.24957606e-01,  4.21564430e-01,\n",
       "         3.96171898e-01],\n",
       "       [ 1.89829662e-01,  8.00654531e-01,  4.21564430e-01,\n",
       "         5.27644873e-01],\n",
       "       [ 1.03800464e+00,  1.06445141e-01,  5.35295725e-01,\n",
       "         3.96171898e-01],\n",
       "       [ 5.53333521e-01, -1.74477851e+00,  3.64698797e-01,\n",
       "         1.33225903e-01],\n",
       "       [-2.94841945e-01, -1.24957606e-01,  1.94101587e-01,\n",
       "         1.33225903e-01],\n",
       "       [-4.16009694e-01, -1.28197253e+00,  1.37235940e-01,\n",
       "         1.33225903e-01],\n",
       "       [-4.16009694e-01, -1.05056965e+00,  3.64698797e-01,\n",
       "         1.75304001e-03],\n",
       "       [ 3.10997427e-01, -1.24957606e-01,  4.78430092e-01,\n",
       "         2.64698893e-01],\n",
       "       [-5.25058322e-02, -1.05056965e+00,  1.37235940e-01,\n",
       "         1.75304001e-03],\n",
       "       [-1.02184904e+00, -1.74477851e+00, -2.60824054e-01,\n",
       "        -2.61192977e-01],\n",
       "       [-2.94841945e-01, -8.19166362e-01,  2.50967205e-01,\n",
       "         1.33225903e-01],\n",
       "       [-1.73674181e-01, -1.24957606e-01,  2.50967205e-01,\n",
       "         1.75304001e-03],\n",
       "       [-1.73674181e-01, -3.56360346e-01,  2.50967205e-01,\n",
       "         1.33225903e-01],\n",
       "       [ 4.32165176e-01, -3.56360346e-01,  3.07833135e-01,\n",
       "         1.33225903e-01],\n",
       "       [-9.00681257e-01, -1.28197253e+00, -4.31421131e-01,\n",
       "        -1.29719958e-01],\n",
       "       [-1.73674181e-01, -5.87763608e-01,  1.94101587e-01,\n",
       "         1.33225903e-01],\n",
       "       [ 5.53333521e-01,  5.69251180e-01,  1.27454996e+00,\n",
       "         1.71090162e+00],\n",
       "       [-5.25058322e-02, -8.19166362e-01,  7.62758613e-01,\n",
       "         9.22063768e-01],\n",
       "       [ 1.52267611e+00, -1.24957606e-01,  1.21768427e+00,\n",
       "         1.18500960e+00],\n",
       "       [ 5.53333521e-01, -3.56360346e-01,  1.04708707e+00,\n",
       "         7.90590763e-01],\n",
       "       [ 7.95669079e-01, -1.24957606e-01,  1.16081858e+00,\n",
       "         1.31648266e+00],\n",
       "       [ 2.12851548e+00, -1.24957606e-01,  1.61574411e+00,\n",
       "         1.18500960e+00],\n",
       "       [-1.14301682e+00, -1.28197253e+00,  4.21564430e-01,\n",
       "         6.59117937e-01],\n",
       "       [ 1.76501226e+00, -3.56360346e-01,  1.44514716e+00,\n",
       "         7.90590763e-01],\n",
       "       [ 1.03800464e+00, -1.28197253e+00,  1.16081858e+00,\n",
       "         7.90590763e-01],\n",
       "       [ 1.64384389e+00,  1.26345992e+00,  1.33141553e+00,\n",
       "         1.71090162e+00],\n",
       "       [ 7.95669079e-01,  3.37848425e-01,  7.62758613e-01,\n",
       "         1.05353677e+00],\n",
       "       [ 6.74501300e-01, -8.19166362e-01,  8.76490176e-01,\n",
       "         9.22063768e-01],\n",
       "       [ 1.15917289e+00, -1.24957606e-01,  9.90221500e-01,\n",
       "         1.18500960e+00],\n",
       "       [-1.73674181e-01, -1.28197253e+00,  7.05892980e-01,\n",
       "         1.05353677e+00],\n",
       "       [-5.25058322e-02, -5.87763608e-01,  7.62758613e-01,\n",
       "         1.57942867e+00],\n",
       "       [ 6.74501300e-01,  3.37848425e-01,  8.76490176e-01,\n",
       "         1.44795561e+00],\n",
       "       [ 7.95669079e-01, -1.24957606e-01,  9.90221500e-01,\n",
       "         7.90590763e-01],\n",
       "       [ 2.24968314e+00,  1.72626591e+00,  1.67260981e+00,\n",
       "         1.31648266e+00],\n",
       "       [ 2.24968314e+00, -1.05056965e+00,  1.78634131e+00,\n",
       "         1.44795561e+00],\n",
       "       [ 1.89829662e-01, -1.97618127e+00,  7.05892980e-01,\n",
       "         3.96171898e-01],\n",
       "       [ 1.28034055e+00,  3.37848425e-01,  1.10395277e+00,\n",
       "         1.44795561e+00],\n",
       "       [-2.94841945e-01, -5.87763608e-01,  6.49027288e-01,\n",
       "         1.05353677e+00],\n",
       "       [ 2.24968314e+00, -5.87763608e-01,  1.67260981e+00,\n",
       "         1.05353677e+00],\n",
       "       [ 5.53333521e-01, -8.19166362e-01,  6.49027288e-01,\n",
       "         7.90590763e-01],\n",
       "       [ 1.03800464e+00,  5.69251180e-01,  1.10395277e+00,\n",
       "         1.18500960e+00],\n",
       "       [ 1.64384389e+00,  3.37848425e-01,  1.27454996e+00,\n",
       "         7.90590763e-01],\n",
       "       [ 4.32165176e-01, -5.87763608e-01,  5.92161655e-01,\n",
       "         7.90590763e-01],\n",
       "       [ 3.10997427e-01, -1.24957606e-01,  6.49027288e-01,\n",
       "         7.90590763e-01],\n",
       "       [ 6.74501300e-01, -5.87763608e-01,  1.04708707e+00,\n",
       "         1.18500960e+00],\n",
       "       [ 1.64384389e+00, -1.24957606e-01,  1.16081858e+00,\n",
       "         5.27644873e-01],\n",
       "       [ 1.88617992e+00, -5.87763608e-01,  1.33141553e+00,\n",
       "         9.22063768e-01],\n",
       "       [ 2.49201941e+00,  1.72626591e+00,  1.50201285e+00,\n",
       "         1.05353677e+00],\n",
       "       [ 6.74501300e-01, -5.87763608e-01,  1.04708707e+00,\n",
       "         1.31648266e+00],\n",
       "       [ 5.53333521e-01, -5.87763608e-01,  7.62758613e-01,\n",
       "         3.96171898e-01],\n",
       "       [ 3.10997427e-01, -1.05056965e+00,  1.04708707e+00,\n",
       "         2.64698893e-01],\n",
       "       [ 2.24968314e+00, -1.24957606e-01,  1.33141553e+00,\n",
       "         1.44795561e+00],\n",
       "       [ 5.53333521e-01,  8.00654531e-01,  1.04708707e+00,\n",
       "         1.57942867e+00],\n",
       "       [ 6.74501300e-01,  1.06445141e-01,  9.90221500e-01,\n",
       "         7.90590763e-01],\n",
       "       [ 1.89829662e-01, -1.24957606e-01,  5.92161655e-01,\n",
       "         7.90590763e-01],\n",
       "       [ 1.28034055e+00,  1.06445141e-01,  9.33355808e-01,\n",
       "         1.18500960e+00],\n",
       "       [ 1.03800464e+00,  1.06445141e-01,  1.04708707e+00,\n",
       "         1.57942867e+00],\n",
       "       [ 1.28034055e+00,  1.06445141e-01,  7.62758613e-01,\n",
       "         1.44795561e+00],\n",
       "       [-5.25058322e-02, -8.19166362e-01,  7.62758613e-01,\n",
       "         9.22063768e-01],\n",
       "       [ 1.15917289e+00,  3.37848425e-01,  1.21768427e+00,\n",
       "         1.44795561e+00],\n",
       "       [ 1.03800464e+00,  5.69251180e-01,  1.10395277e+00,\n",
       "         1.71090162e+00],\n",
       "       [ 1.03800464e+00, -1.24957606e-01,  8.19624245e-01,\n",
       "         1.44795561e+00],\n",
       "       [ 5.53333521e-01, -1.28197253e+00,  7.05892980e-01,\n",
       "         9.22063768e-01],\n",
       "       [ 7.95669079e-01, -1.24957606e-01,  8.19624245e-01,\n",
       "         1.05353677e+00],\n",
       "       [ 4.32165176e-01,  8.00654531e-01,  9.33355808e-01,\n",
       "         1.44795561e+00],\n",
       "       [ 6.86619356e-02, -1.24957606e-01,  7.62758613e-01,\n",
       "         7.90590763e-01]], dtype=float32)"
      ]
     },
     "execution_count": 26,
     "metadata": {},
     "output_type": "execute_result"
    }
   ],
   "source": [
    "from sklearn.preprocessing import StandardScaler\n",
    "scaler=StandardScaler()\n",
    "x=scaler.fit_transform(x)\n",
    "x"
   ]
  },
  {
   "cell_type": "code",
   "execution_count": 28,
   "id": "ec5fe44e",
   "metadata": {},
   "outputs": [
    {
     "data": {
      "text/plain": [
       "(150, 4)"
      ]
     },
     "execution_count": 28,
     "metadata": {},
     "output_type": "execute_result"
    }
   ],
   "source": [
    "x.shape"
   ]
  },
  {
   "cell_type": "code",
   "execution_count": 43,
   "id": "9b510697",
   "metadata": {},
   "outputs": [
    {
     "name": "stdout",
     "output_type": "stream",
     "text": [
      "[0 1 2]\n"
     ]
    }
   ],
   "source": [
    "import numpy as np\n",
    "print(np.unique(y))"
   ]
  },
  {
   "cell_type": "code",
   "execution_count": 35,
   "id": "df2cc517",
   "metadata": {},
   "outputs": [
    {
     "name": "stdout",
     "output_type": "stream",
     "text": [
      "x train (105, 4) test x (45, 4) y train (105,) y test (45,)\n"
     ]
    }
   ],
   "source": [
    "from sklearn.model_selection import train_test_split\n",
    "x_train,x_test,y_train,y_test=train_test_split(x,y,test_size=0.3)\n",
    "print('x train',x_train.shape,'test x',x_test.shape,'y train',y_train.shape,'y test',y_test.shape)"
   ]
  },
  {
   "cell_type": "code",
   "execution_count": 46,
   "id": "552a945f",
   "metadata": {},
   "outputs": [
    {
     "name": "stdout",
     "output_type": "stream",
     "text": [
      "4\n"
     ]
    }
   ],
   "source": [
    "n_features=x_train.shape[1]\n",
    "print(n_features)"
   ]
  },
  {
   "cell_type": "code",
   "execution_count": 50,
   "id": "beacb06a",
   "metadata": {},
   "outputs": [
    {
     "name": "stderr",
     "output_type": "stream",
     "text": [
      "C:\\Users\\elham\\anaconda3\\Lib\\site-packages\\keras\\src\\layers\\core\\dense.py:87: UserWarning: Do not pass an `input_shape`/`input_dim` argument to a layer. When using Sequential models, prefer using an `Input(shape)` object as the first layer in the model instead.\n",
      "  super().__init__(activity_regularizer=activity_regularizer, **kwargs)\n"
     ]
    }
   ],
   "source": [
    "model=Sequential()\n",
    "model.add(Dense(10,activation='relu',kernel_initializer='he_normal',input_shape=(n_features,)))\n",
    "model.add(Dense(8,activation='relu',kernel_initializer='he_normal'))\n",
    "model.add(Dense(10,activation='relu',kernel_initializer='he_normal'))\n",
    "model.add(Dense(3,activation='softmax'))\n",
    "\n",
    "model.compile(optimizer='adam',metrics=['accuracy'],loss='sparse_categorical_crossentropy')"
   ]
  },
  {
   "cell_type": "code",
   "execution_count": 56,
   "id": "df6271b7",
   "metadata": {},
   "outputs": [
    {
     "name": "stdout",
     "output_type": "stream",
     "text": [
      "Epoch 1/150\n",
      "\u001b[1m4/4\u001b[0m \u001b[32m━━━━━━━━━━━━━━━━━━━━\u001b[0m\u001b[37m\u001b[0m \u001b[1m0s\u001b[0m 16ms/step - accuracy: 0.9681 - loss: 0.0905\n",
      "Epoch 2/150\n",
      "\u001b[1m4/4\u001b[0m \u001b[32m━━━━━━━━━━━━━━━━━━━━\u001b[0m\u001b[37m\u001b[0m \u001b[1m0s\u001b[0m 14ms/step - accuracy: 0.9525 - loss: 0.1111\n",
      "Epoch 3/150\n",
      "\u001b[1m4/4\u001b[0m \u001b[32m━━━━━━━━━━━━━━━━━━━━\u001b[0m\u001b[37m\u001b[0m \u001b[1m0s\u001b[0m 16ms/step - accuracy: 0.9559 - loss: 0.1012\n",
      "Epoch 4/150\n",
      "\u001b[1m4/4\u001b[0m \u001b[32m━━━━━━━━━━━━━━━━━━━━\u001b[0m\u001b[37m\u001b[0m \u001b[1m0s\u001b[0m 16ms/step - accuracy: 0.9681 - loss: 0.0872\n",
      "Epoch 5/150\n",
      "\u001b[1m4/4\u001b[0m \u001b[32m━━━━━━━━━━━━━━━━━━━━\u001b[0m\u001b[37m\u001b[0m \u001b[1m0s\u001b[0m 17ms/step - accuracy: 0.9492 - loss: 0.1092\n",
      "Epoch 6/150\n",
      "\u001b[1m4/4\u001b[0m \u001b[32m━━━━━━━━━━━━━━━━━━━━\u001b[0m\u001b[37m\u001b[0m \u001b[1m0s\u001b[0m 15ms/step - accuracy: 0.9625 - loss: 0.0890\n",
      "Epoch 7/150\n",
      "\u001b[1m4/4\u001b[0m \u001b[32m━━━━━━━━━━━━━━━━━━━━\u001b[0m\u001b[37m\u001b[0m \u001b[1m0s\u001b[0m 20ms/step - accuracy: 0.9614 - loss: 0.0890\n",
      "Epoch 8/150\n",
      "\u001b[1m4/4\u001b[0m \u001b[32m━━━━━━━━━━━━━━━━━━━━\u001b[0m\u001b[37m\u001b[0m \u001b[1m0s\u001b[0m 18ms/step - accuracy: 0.9714 - loss: 0.0782\n",
      "Epoch 9/150\n",
      "\u001b[1m4/4\u001b[0m \u001b[32m━━━━━━━━━━━━━━━━━━━━\u001b[0m\u001b[37m\u001b[0m \u001b[1m0s\u001b[0m 25ms/step - accuracy: 0.9592 - loss: 0.0962\n",
      "Epoch 10/150\n",
      "\u001b[1m4/4\u001b[0m \u001b[32m━━━━━━━━━━━━━━━━━━━━\u001b[0m\u001b[37m\u001b[0m \u001b[1m0s\u001b[0m 16ms/step - accuracy: 0.9581 - loss: 0.0889\n",
      "Epoch 11/150\n",
      "\u001b[1m4/4\u001b[0m \u001b[32m━━━━━━━━━━━━━━━━━━━━\u001b[0m\u001b[37m\u001b[0m \u001b[1m0s\u001b[0m 20ms/step - accuracy: 0.9819 - loss: 0.0816\n",
      "Epoch 12/150\n",
      "\u001b[1m4/4\u001b[0m \u001b[32m━━━━━━━━━━━━━━━━━━━━\u001b[0m\u001b[37m\u001b[0m \u001b[1m0s\u001b[0m 19ms/step - accuracy: 0.9841 - loss: 0.0717\n",
      "Epoch 13/150\n",
      "\u001b[1m4/4\u001b[0m \u001b[32m━━━━━━━━━━━━━━━━━━━━\u001b[0m\u001b[37m\u001b[0m \u001b[1m0s\u001b[0m 20ms/step - accuracy: 0.9686 - loss: 0.0799\n",
      "Epoch 14/150\n",
      "\u001b[1m4/4\u001b[0m \u001b[32m━━━━━━━━━━━━━━━━━━━━\u001b[0m\u001b[37m\u001b[0m \u001b[1m0s\u001b[0m 17ms/step - accuracy: 0.9719 - loss: 0.0841\n",
      "Epoch 15/150\n",
      "\u001b[1m4/4\u001b[0m \u001b[32m━━━━━━━━━━━━━━━━━━━━\u001b[0m\u001b[37m\u001b[0m \u001b[1m0s\u001b[0m 32ms/step - accuracy: 0.9719 - loss: 0.0741 \n",
      "Epoch 16/150\n",
      "\u001b[1m4/4\u001b[0m \u001b[32m━━━━━━━━━━━━━━━━━━━━\u001b[0m\u001b[37m\u001b[0m \u001b[1m0s\u001b[0m 18ms/step - accuracy: 0.9819 - loss: 0.0796\n",
      "Epoch 17/150\n",
      "\u001b[1m4/4\u001b[0m \u001b[32m━━━━━━━━━━━━━━━━━━━━\u001b[0m\u001b[37m\u001b[0m \u001b[1m0s\u001b[0m 14ms/step - accuracy: 0.9841 - loss: 0.0770\n",
      "Epoch 18/150\n",
      "\u001b[1m4/4\u001b[0m \u001b[32m━━━━━━━━━━━━━━━━━━━━\u001b[0m\u001b[37m\u001b[0m \u001b[1m0s\u001b[0m 23ms/step - accuracy: 0.9359 - loss: 0.1057\n",
      "Epoch 19/150\n",
      "\u001b[1m4/4\u001b[0m \u001b[32m━━━━━━━━━━━━━━━━━━━━\u001b[0m\u001b[37m\u001b[0m \u001b[1m0s\u001b[0m 44ms/step - accuracy: 0.9625 - loss: 0.0777\n",
      "Epoch 20/150\n",
      "\u001b[1m4/4\u001b[0m \u001b[32m━━━━━━━━━━━━━━━━━━━━\u001b[0m\u001b[37m\u001b[0m \u001b[1m0s\u001b[0m 11ms/step - accuracy: 0.9748 - loss: 0.0701\n",
      "Epoch 21/150\n",
      "\u001b[1m4/4\u001b[0m \u001b[32m━━━━━━━━━━━━━━━━━━━━\u001b[0m\u001b[37m\u001b[0m \u001b[1m0s\u001b[0m 7ms/step - accuracy: 0.9548 - loss: 0.0946 \n",
      "Epoch 22/150\n",
      "\u001b[1m4/4\u001b[0m \u001b[32m━━━━━━━━━━━━━━━━━━━━\u001b[0m\u001b[37m\u001b[0m \u001b[1m0s\u001b[0m 10ms/step - accuracy: 0.9648 - loss: 0.0771\n",
      "Epoch 23/150\n",
      "\u001b[1m4/4\u001b[0m \u001b[32m━━━━━━━━━━━━━━━━━━━━\u001b[0m\u001b[37m\u001b[0m \u001b[1m0s\u001b[0m 9ms/step - accuracy: 0.9830 - loss: 0.0666 \n",
      "Epoch 24/150\n",
      "\u001b[1m4/4\u001b[0m \u001b[32m━━━━━━━━━━━━━━━━━━━━\u001b[0m\u001b[37m\u001b[0m \u001b[1m0s\u001b[0m 7ms/step - accuracy: 0.9686 - loss: 0.0833 \n",
      "Epoch 25/150\n",
      "\u001b[1m4/4\u001b[0m \u001b[32m━━━━━━━━━━━━━━━━━━━━\u001b[0m\u001b[37m\u001b[0m \u001b[1m0s\u001b[0m 9ms/step - accuracy: 0.9902 - loss: 0.0699 \n",
      "Epoch 26/150\n",
      "\u001b[1m4/4\u001b[0m \u001b[32m━━━━━━━━━━━━━━━━━━━━\u001b[0m\u001b[37m\u001b[0m \u001b[1m0s\u001b[0m 11ms/step - accuracy: 0.9719 - loss: 0.0827\n",
      "Epoch 27/150\n",
      "\u001b[1m4/4\u001b[0m \u001b[32m━━━━━━━━━━━━━━━━━━━━\u001b[0m\u001b[37m\u001b[0m \u001b[1m0s\u001b[0m 9ms/step - accuracy: 0.9841 - loss: 0.0676 \n",
      "Epoch 28/150\n",
      "\u001b[1m4/4\u001b[0m \u001b[32m━━━━━━━━━━━━━━━━━━━━\u001b[0m\u001b[37m\u001b[0m \u001b[1m0s\u001b[0m 8ms/step - accuracy: 0.9741 - loss: 0.0707 \n",
      "Epoch 29/150\n",
      "\u001b[1m4/4\u001b[0m \u001b[32m━━━━━━━━━━━━━━━━━━━━\u001b[0m\u001b[37m\u001b[0m \u001b[1m0s\u001b[0m 11ms/step - accuracy: 0.9708 - loss: 0.0771\n",
      "Epoch 30/150\n",
      "\u001b[1m4/4\u001b[0m \u001b[32m━━━━━━━━━━━━━━━━━━━━\u001b[0m\u001b[37m\u001b[0m \u001b[1m0s\u001b[0m 9ms/step - accuracy: 0.9652 - loss: 0.0792 \n",
      "Epoch 31/150\n",
      "\u001b[1m4/4\u001b[0m \u001b[32m━━━━━━━━━━━━━━━━━━━━\u001b[0m\u001b[37m\u001b[0m \u001b[1m0s\u001b[0m 11ms/step - accuracy: 0.9902 - loss: 0.0609\n",
      "Epoch 32/150\n",
      "\u001b[1m4/4\u001b[0m \u001b[32m━━━━━━━━━━━━━━━━━━━━\u001b[0m\u001b[37m\u001b[0m \u001b[1m0s\u001b[0m 8ms/step - accuracy: 0.9779 - loss: 0.0957 \n",
      "Epoch 33/150\n",
      "\u001b[1m4/4\u001b[0m \u001b[32m━━━━━━━━━━━━━━━━━━━━\u001b[0m\u001b[37m\u001b[0m \u001b[1m0s\u001b[0m 11ms/step - accuracy: 0.9746 - loss: 0.0841\n",
      "Epoch 34/150\n",
      "\u001b[1m4/4\u001b[0m \u001b[32m━━━━━━━━━━━━━━━━━━━━\u001b[0m\u001b[37m\u001b[0m \u001b[1m0s\u001b[0m 11ms/step - accuracy: 0.9813 - loss: 0.0730\n",
      "Epoch 35/150\n",
      "\u001b[1m4/4\u001b[0m \u001b[32m━━━━━━━━━━━━━━━━━━━━\u001b[0m\u001b[37m\u001b[0m \u001b[1m0s\u001b[0m 8ms/step - accuracy: 0.9879 - loss: 0.0691 \n",
      "Epoch 36/150\n",
      "\u001b[1m4/4\u001b[0m \u001b[32m━━━━━━━━━━━━━━━━━━━━\u001b[0m\u001b[37m\u001b[0m \u001b[1m0s\u001b[0m 11ms/step - accuracy: 0.9779 - loss: 0.0761\n",
      "Epoch 37/150\n",
      "\u001b[1m4/4\u001b[0m \u001b[32m━━━━━━━━━━━━━━━━━━━━\u001b[0m\u001b[37m\u001b[0m \u001b[1m0s\u001b[0m 11ms/step - accuracy: 0.9746 - loss: 0.0763\n",
      "Epoch 38/150\n",
      "\u001b[1m4/4\u001b[0m \u001b[32m━━━━━━━━━━━━━━━━━━━━\u001b[0m\u001b[37m\u001b[0m \u001b[1m0s\u001b[0m 16ms/step - accuracy: 0.9902 - loss: 0.0490\n",
      "Epoch 39/150\n",
      "\u001b[1m4/4\u001b[0m \u001b[32m━━━━━━━━━━━━━━━━━━━━\u001b[0m\u001b[37m\u001b[0m \u001b[1m0s\u001b[0m 21ms/step - accuracy: 0.9813 - loss: 0.0663\n",
      "Epoch 40/150\n",
      "\u001b[1m4/4\u001b[0m \u001b[32m━━━━━━━━━━━━━━━━━━━━\u001b[0m\u001b[37m\u001b[0m \u001b[1m0s\u001b[0m 16ms/step - accuracy: 0.9779 - loss: 0.0612\n",
      "Epoch 41/150\n",
      "\u001b[1m4/4\u001b[0m \u001b[32m━━━━━━━━━━━━━━━━━━━━\u001b[0m\u001b[37m\u001b[0m \u001b[1m0s\u001b[0m 20ms/step - accuracy: 0.9868 - loss: 0.0623\n",
      "Epoch 42/150\n",
      "\u001b[1m4/4\u001b[0m \u001b[32m━━━━━━━━━━━━━━━━━━━━\u001b[0m\u001b[37m\u001b[0m \u001b[1m0s\u001b[0m 19ms/step - accuracy: 0.9879 - loss: 0.0609\n",
      "Epoch 43/150\n",
      "\u001b[1m4/4\u001b[0m \u001b[32m━━━━━━━━━━━━━━━━━━━━\u001b[0m\u001b[37m\u001b[0m \u001b[1m0s\u001b[0m 16ms/step - accuracy: 0.9813 - loss: 0.0712\n",
      "Epoch 44/150\n",
      "\u001b[1m4/4\u001b[0m \u001b[32m━━━━━━━━━━━━━━━━━━━━\u001b[0m\u001b[37m\u001b[0m \u001b[1m0s\u001b[0m 18ms/step - accuracy: 0.9846 - loss: 0.0702\n",
      "Epoch 45/150\n",
      "\u001b[1m4/4\u001b[0m \u001b[32m━━━━━━━━━━━━━━━━━━━━\u001b[0m\u001b[37m\u001b[0m \u001b[1m0s\u001b[0m 16ms/step - accuracy: 0.9902 - loss: 0.0493\n",
      "Epoch 46/150\n",
      "\u001b[1m4/4\u001b[0m \u001b[32m━━━━━━━━━━━━━━━━━━━━\u001b[0m\u001b[37m\u001b[0m \u001b[1m0s\u001b[0m 23ms/step - accuracy: 0.9924 - loss: 0.0498\n",
      "Epoch 47/150\n",
      "\u001b[1m4/4\u001b[0m \u001b[32m━━━━━━━━━━━━━━━━━━━━\u001b[0m\u001b[37m\u001b[0m \u001b[1m0s\u001b[0m 22ms/step - accuracy: 0.9846 - loss: 0.0647\n",
      "Epoch 48/150\n",
      "\u001b[1m4/4\u001b[0m \u001b[32m━━━━━━━━━━━━━━━━━━━━\u001b[0m\u001b[37m\u001b[0m \u001b[1m0s\u001b[0m 19ms/step - accuracy: 0.9846 - loss: 0.0645\n",
      "Epoch 49/150\n",
      "\u001b[1m4/4\u001b[0m \u001b[32m━━━━━━━━━━━━━━━━━━━━\u001b[0m\u001b[37m\u001b[0m \u001b[1m0s\u001b[0m 42ms/step - accuracy: 0.9779 - loss: 0.0717\n",
      "Epoch 50/150\n",
      "\u001b[1m4/4\u001b[0m \u001b[32m━━━━━━━━━━━━━━━━━━━━\u001b[0m\u001b[37m\u001b[0m \u001b[1m0s\u001b[0m 17ms/step - accuracy: 0.9902 - loss: 0.0620\n",
      "Epoch 51/150\n",
      "\u001b[1m4/4\u001b[0m \u001b[32m━━━━━━━━━━━━━━━━━━━━\u001b[0m\u001b[37m\u001b[0m \u001b[1m0s\u001b[0m 15ms/step - accuracy: 0.9779 - loss: 0.0718\n",
      "Epoch 52/150\n",
      "\u001b[1m4/4\u001b[0m \u001b[32m━━━━━━━━━━━━━━━━━━━━\u001b[0m\u001b[37m\u001b[0m \u001b[1m0s\u001b[0m 15ms/step - accuracy: 0.9846 - loss: 0.0597\n",
      "Epoch 53/150\n",
      "\u001b[1m4/4\u001b[0m \u001b[32m━━━━━━━━━━━━━━━━━━━━\u001b[0m\u001b[37m\u001b[0m \u001b[1m0s\u001b[0m 17ms/step - accuracy: 0.9879 - loss: 0.0640\n",
      "Epoch 54/150\n",
      "\u001b[1m4/4\u001b[0m \u001b[32m━━━━━━━━━━━━━━━━━━━━\u001b[0m\u001b[37m\u001b[0m \u001b[1m0s\u001b[0m 8ms/step - accuracy: 0.9679 - loss: 0.0775 \n",
      "Epoch 55/150\n",
      "\u001b[1m4/4\u001b[0m \u001b[32m━━━━━━━━━━━━━━━━━━━━\u001b[0m\u001b[37m\u001b[0m \u001b[1m0s\u001b[0m 8ms/step - accuracy: 0.9746 - loss: 0.0679 \n",
      "Epoch 56/150\n",
      "\u001b[1m4/4\u001b[0m \u001b[32m━━━━━━━━━━━━━━━━━━━━\u001b[0m\u001b[37m\u001b[0m \u001b[1m0s\u001b[0m 11ms/step - accuracy: 0.9846 - loss: 0.0584\n",
      "Epoch 57/150\n",
      "\u001b[1m4/4\u001b[0m \u001b[32m━━━━━━━━━━━━━━━━━━━━\u001b[0m\u001b[37m\u001b[0m \u001b[1m0s\u001b[0m 8ms/step - accuracy: 0.9779 - loss: 0.0624 \n",
      "Epoch 58/150\n",
      "\u001b[1m4/4\u001b[0m \u001b[32m━━━━━━━━━━━━━━━━━━━━\u001b[0m\u001b[37m\u001b[0m \u001b[1m0s\u001b[0m 5ms/step - accuracy: 0.9679 - loss: 0.0711 \n",
      "Epoch 59/150\n",
      "\u001b[1m4/4\u001b[0m \u001b[32m━━━━━━━━━━━━━━━━━━━━\u001b[0m\u001b[37m\u001b[0m \u001b[1m0s\u001b[0m 8ms/step - accuracy: 0.9902 - loss: 0.0542 \n",
      "Epoch 60/150\n",
      "\u001b[1m4/4\u001b[0m \u001b[32m━━━━━━━━━━━━━━━━━━━━\u001b[0m\u001b[37m\u001b[0m \u001b[1m0s\u001b[0m 7ms/step - accuracy: 0.9779 - loss: 0.0653 \n",
      "Epoch 61/150\n",
      "\u001b[1m4/4\u001b[0m \u001b[32m━━━━━━━━━━━━━━━━━━━━\u001b[0m\u001b[37m\u001b[0m \u001b[1m0s\u001b[0m 9ms/step - accuracy: 0.9746 - loss: 0.0696 \n",
      "Epoch 62/150\n",
      "\u001b[1m4/4\u001b[0m \u001b[32m━━━━━━━━━━━━━━━━━━━━\u001b[0m\u001b[37m\u001b[0m \u001b[1m0s\u001b[0m 11ms/step - accuracy: 0.9902 - loss: 0.0493\n",
      "Epoch 63/150\n",
      "\u001b[1m4/4\u001b[0m \u001b[32m━━━━━━━━━━━━━━━━━━━━\u001b[0m\u001b[37m\u001b[0m \u001b[1m0s\u001b[0m 12ms/step - accuracy: 0.9879 - loss: 0.0588\n",
      "Epoch 64/150\n",
      "\u001b[1m4/4\u001b[0m \u001b[32m━━━━━━━━━━━━━━━━━━━━\u001b[0m\u001b[37m\u001b[0m \u001b[1m0s\u001b[0m 11ms/step - accuracy: 0.9779 - loss: 0.0615\n",
      "Epoch 65/150\n",
      "\u001b[1m4/4\u001b[0m \u001b[32m━━━━━━━━━━━━━━━━━━━━\u001b[0m\u001b[37m\u001b[0m \u001b[1m0s\u001b[0m 8ms/step - accuracy: 0.9846 - loss: 0.0615 \n",
      "Epoch 66/150\n",
      "\u001b[1m4/4\u001b[0m \u001b[32m━━━━━━━━━━━━━━━━━━━━\u001b[0m\u001b[37m\u001b[0m \u001b[1m0s\u001b[0m 7ms/step - accuracy: 0.9813 - loss: 0.0563 \n",
      "Epoch 67/150\n",
      "\u001b[1m4/4\u001b[0m \u001b[32m━━━━━━━━━━━━━━━━━━━━\u001b[0m\u001b[37m\u001b[0m \u001b[1m0s\u001b[0m 12ms/step - accuracy: 0.9779 - loss: 0.0603\n",
      "Epoch 68/150\n",
      "\u001b[1m4/4\u001b[0m \u001b[32m━━━━━━━━━━━━━━━━━━━━\u001b[0m\u001b[37m\u001b[0m \u001b[1m0s\u001b[0m 8ms/step - accuracy: 0.9746 - loss: 0.0700 \n",
      "Epoch 69/150\n"
     ]
    },
    {
     "name": "stdout",
     "output_type": "stream",
     "text": [
      "\u001b[1m4/4\u001b[0m \u001b[32m━━━━━━━━━━━━━━━━━━━━\u001b[0m\u001b[37m\u001b[0m \u001b[1m0s\u001b[0m 12ms/step - accuracy: 0.9879 - loss: 0.0486\n",
      "Epoch 70/150\n",
      "\u001b[1m4/4\u001b[0m \u001b[32m━━━━━━━━━━━━━━━━━━━━\u001b[0m\u001b[37m\u001b[0m \u001b[1m0s\u001b[0m 11ms/step - accuracy: 0.9746 - loss: 0.0555\n",
      "Epoch 71/150\n",
      "\u001b[1m4/4\u001b[0m \u001b[32m━━━━━━━━━━━━━━━━━━━━\u001b[0m\u001b[37m\u001b[0m \u001b[1m0s\u001b[0m 12ms/step - accuracy: 0.9813 - loss: 0.0639\n",
      "Epoch 72/150\n",
      "\u001b[1m4/4\u001b[0m \u001b[32m━━━━━━━━━━━━━━━━━━━━\u001b[0m\u001b[37m\u001b[0m \u001b[1m0s\u001b[0m 14ms/step - accuracy: 0.9879 - loss: 0.0449\n",
      "Epoch 73/150\n",
      "\u001b[1m4/4\u001b[0m \u001b[32m━━━━━━━━━━━━━━━━━━━━\u001b[0m\u001b[37m\u001b[0m \u001b[1m0s\u001b[0m 11ms/step - accuracy: 0.9679 - loss: 0.0652\n",
      "Epoch 74/150\n",
      "\u001b[1m4/4\u001b[0m \u001b[32m━━━━━━━━━━━━━━━━━━━━\u001b[0m\u001b[37m\u001b[0m \u001b[1m0s\u001b[0m 12ms/step - accuracy: 0.9879 - loss: 0.0612\n",
      "Epoch 75/150\n",
      "\u001b[1m4/4\u001b[0m \u001b[32m━━━━━━━━━━━━━━━━━━━━\u001b[0m\u001b[37m\u001b[0m \u001b[1m0s\u001b[0m 14ms/step - accuracy: 0.9679 - loss: 0.0689\n",
      "Epoch 76/150\n",
      "\u001b[1m4/4\u001b[0m \u001b[32m━━━━━━━━━━━━━━━━━━━━\u001b[0m\u001b[37m\u001b[0m \u001b[1m0s\u001b[0m 12ms/step - accuracy: 0.9779 - loss: 0.0610\n",
      "Epoch 77/150\n",
      "\u001b[1m4/4\u001b[0m \u001b[32m━━━━━━━━━━━━━━━━━━━━\u001b[0m\u001b[37m\u001b[0m \u001b[1m0s\u001b[0m 17ms/step - accuracy: 0.9802 - loss: 0.0618\n",
      "Epoch 78/150\n",
      "\u001b[1m4/4\u001b[0m \u001b[32m━━━━━━━━━━━━━━━━━━━━\u001b[0m\u001b[37m\u001b[0m \u001b[1m0s\u001b[0m 18ms/step - accuracy: 0.9813 - loss: 0.0550\n",
      "Epoch 79/150\n",
      "\u001b[1m4/4\u001b[0m \u001b[32m━━━━━━━━━━━━━━━━━━━━\u001b[0m\u001b[37m\u001b[0m \u001b[1m0s\u001b[0m 17ms/step - accuracy: 0.9813 - loss: 0.0532\n",
      "Epoch 80/150\n",
      "\u001b[1m4/4\u001b[0m \u001b[32m━━━━━━━━━━━━━━━━━━━━\u001b[0m\u001b[37m\u001b[0m \u001b[1m0s\u001b[0m 12ms/step - accuracy: 0.9802 - loss: 0.0673\n",
      "Epoch 81/150\n",
      "\u001b[1m4/4\u001b[0m \u001b[32m━━━━━━━━━━━━━━━━━━━━\u001b[0m\u001b[37m\u001b[0m \u001b[1m0s\u001b[0m 12ms/step - accuracy: 0.9779 - loss: 0.0582\n",
      "Epoch 82/150\n",
      "\u001b[1m4/4\u001b[0m \u001b[32m━━━━━━━━━━━━━━━━━━━━\u001b[0m\u001b[37m\u001b[0m \u001b[1m0s\u001b[0m 15ms/step - accuracy: 0.9679 - loss: 0.0656\n",
      "Epoch 83/150\n",
      "\u001b[1m4/4\u001b[0m \u001b[32m━━━━━━━━━━━━━━━━━━━━\u001b[0m\u001b[37m\u001b[0m \u001b[1m0s\u001b[0m 11ms/step - accuracy: 0.9879 - loss: 0.0431\n",
      "Epoch 84/150\n",
      "\u001b[1m4/4\u001b[0m \u001b[32m━━━━━━━━━━━━━━━━━━━━\u001b[0m\u001b[37m\u001b[0m \u001b[1m0s\u001b[0m 11ms/step - accuracy: 0.9846 - loss: 0.0541\n",
      "Epoch 85/150\n",
      "\u001b[1m4/4\u001b[0m \u001b[32m━━━━━━━━━━━━━━━━━━━━\u001b[0m\u001b[37m\u001b[0m \u001b[1m0s\u001b[0m 11ms/step - accuracy: 0.9902 - loss: 0.0498\n",
      "Epoch 86/150\n",
      "\u001b[1m4/4\u001b[0m \u001b[32m━━━━━━━━━━━━━━━━━━━━\u001b[0m\u001b[37m\u001b[0m \u001b[1m0s\u001b[0m 16ms/step - accuracy: 0.9779 - loss: 0.0560\n",
      "Epoch 87/150\n",
      "\u001b[1m4/4\u001b[0m \u001b[32m━━━━━━━━━━━━━━━━━━━━\u001b[0m\u001b[37m\u001b[0m \u001b[1m0s\u001b[0m 13ms/step - accuracy: 0.9679 - loss: 0.0648\n",
      "Epoch 88/150\n",
      "\u001b[1m4/4\u001b[0m \u001b[32m━━━━━━━━━━━━━━━━━━━━\u001b[0m\u001b[37m\u001b[0m \u001b[1m0s\u001b[0m 13ms/step - accuracy: 0.9679 - loss: 0.0581\n",
      "Epoch 89/150\n",
      "\u001b[1m4/4\u001b[0m \u001b[32m━━━━━━━━━━━━━━━━━━━━\u001b[0m\u001b[37m\u001b[0m \u001b[1m0s\u001b[0m 15ms/step - accuracy: 0.9746 - loss: 0.0558\n",
      "Epoch 90/150\n",
      "\u001b[1m4/4\u001b[0m \u001b[32m━━━━━━━━━━━━━━━━━━━━\u001b[0m\u001b[37m\u001b[0m \u001b[1m0s\u001b[0m 13ms/step - accuracy: 0.9813 - loss: 0.0448\n",
      "Epoch 91/150\n",
      "\u001b[1m4/4\u001b[0m \u001b[32m━━━━━━━━━━━━━━━━━━━━\u001b[0m\u001b[37m\u001b[0m \u001b[1m0s\u001b[0m 11ms/step - accuracy: 0.9746 - loss: 0.0545\n",
      "Epoch 92/150\n",
      "\u001b[1m4/4\u001b[0m \u001b[32m━━━━━━━━━━━━━━━━━━━━\u001b[0m\u001b[37m\u001b[0m \u001b[1m0s\u001b[0m 13ms/step - accuracy: 0.9846 - loss: 0.0515\n",
      "Epoch 93/150\n",
      "\u001b[1m4/4\u001b[0m \u001b[32m━━━━━━━━━━━━━━━━━━━━\u001b[0m\u001b[37m\u001b[0m \u001b[1m0s\u001b[0m 11ms/step - accuracy: 0.9746 - loss: 0.0581\n",
      "Epoch 94/150\n",
      "\u001b[1m4/4\u001b[0m \u001b[32m━━━━━━━━━━━━━━━━━━━━\u001b[0m\u001b[37m\u001b[0m \u001b[1m0s\u001b[0m 13ms/step - accuracy: 0.9779 - loss: 0.0558\n",
      "Epoch 95/150\n",
      "\u001b[1m4/4\u001b[0m \u001b[32m━━━━━━━━━━━━━━━━━━━━\u001b[0m\u001b[37m\u001b[0m \u001b[1m0s\u001b[0m 14ms/step - accuracy: 0.9802 - loss: 0.0494\n",
      "Epoch 96/150\n",
      "\u001b[1m4/4\u001b[0m \u001b[32m━━━━━━━━━━━━━━━━━━━━\u001b[0m\u001b[37m\u001b[0m \u001b[1m0s\u001b[0m 21ms/step - accuracy: 0.9746 - loss: 0.0508 \n",
      "Epoch 97/150\n",
      "\u001b[1m4/4\u001b[0m \u001b[32m━━━━━━━━━━━━━━━━━━━━\u001b[0m\u001b[37m\u001b[0m \u001b[1m0s\u001b[0m 11ms/step - accuracy: 0.9846 - loss: 0.0498\n",
      "Epoch 98/150\n",
      "\u001b[1m4/4\u001b[0m \u001b[32m━━━━━━━━━━━━━━━━━━━━\u001b[0m\u001b[37m\u001b[0m \u001b[1m0s\u001b[0m 14ms/step - accuracy: 0.9868 - loss: 0.0423\n",
      "Epoch 99/150\n",
      "\u001b[1m4/4\u001b[0m \u001b[32m━━━━━━━━━━━━━━━━━━━━\u001b[0m\u001b[37m\u001b[0m \u001b[1m0s\u001b[0m 14ms/step - accuracy: 0.9746 - loss: 0.0481\n",
      "Epoch 100/150\n",
      "\u001b[1m4/4\u001b[0m \u001b[32m━━━━━━━━━━━━━━━━━━━━\u001b[0m\u001b[37m\u001b[0m \u001b[1m0s\u001b[0m 12ms/step - accuracy: 0.9779 - loss: 0.0534\n",
      "Epoch 101/150\n",
      "\u001b[1m4/4\u001b[0m \u001b[32m━━━━━━━━━━━━━━━━━━━━\u001b[0m\u001b[37m\u001b[0m \u001b[1m0s\u001b[0m 14ms/step - accuracy: 0.9813 - loss: 0.0499\n",
      "Epoch 102/150\n",
      "\u001b[1m4/4\u001b[0m \u001b[32m━━━━━━━━━━━━━━━━━━━━\u001b[0m\u001b[37m\u001b[0m \u001b[1m0s\u001b[0m 17ms/step - accuracy: 0.9779 - loss: 0.0521\n",
      "Epoch 103/150\n",
      "\u001b[1m4/4\u001b[0m \u001b[32m━━━━━━━━━━━━━━━━━━━━\u001b[0m\u001b[37m\u001b[0m \u001b[1m0s\u001b[0m 14ms/step - accuracy: 0.9746 - loss: 0.0550\n",
      "Epoch 104/150\n",
      "\u001b[1m4/4\u001b[0m \u001b[32m━━━━━━━━━━━━━━━━━━━━\u001b[0m\u001b[37m\u001b[0m \u001b[1m0s\u001b[0m 16ms/step - accuracy: 0.9846 - loss: 0.0487\n",
      "Epoch 105/150\n",
      "\u001b[1m4/4\u001b[0m \u001b[32m━━━━━━━━━━━━━━━━━━━━\u001b[0m\u001b[37m\u001b[0m \u001b[1m0s\u001b[0m 13ms/step - accuracy: 0.9779 - loss: 0.0539\n",
      "Epoch 106/150\n",
      "\u001b[1m4/4\u001b[0m \u001b[32m━━━━━━━━━━━━━━━━━━━━\u001b[0m\u001b[37m\u001b[0m \u001b[1m0s\u001b[0m 11ms/step - accuracy: 0.9846 - loss: 0.0528\n",
      "Epoch 107/150\n",
      "\u001b[1m4/4\u001b[0m \u001b[32m━━━━━━━━━━━━━━━━━━━━\u001b[0m\u001b[37m\u001b[0m \u001b[1m0s\u001b[0m 14ms/step - accuracy: 0.9746 - loss: 0.0556\n",
      "Epoch 108/150\n",
      "\u001b[1m4/4\u001b[0m \u001b[32m━━━━━━━━━━━━━━━━━━━━\u001b[0m\u001b[37m\u001b[0m \u001b[1m0s\u001b[0m 14ms/step - accuracy: 0.9846 - loss: 0.0380\n",
      "Epoch 109/150\n",
      "\u001b[1m4/4\u001b[0m \u001b[32m━━━━━━━━━━━━━━━━━━━━\u001b[0m\u001b[37m\u001b[0m \u001b[1m0s\u001b[0m 11ms/step - accuracy: 0.9802 - loss: 0.0491\n",
      "Epoch 110/150\n",
      "\u001b[1m4/4\u001b[0m \u001b[32m━━━━━━━━━━━━━━━━━━━━\u001b[0m\u001b[37m\u001b[0m \u001b[1m0s\u001b[0m 11ms/step - accuracy: 0.9746 - loss: 0.0547\n",
      "Epoch 111/150\n",
      "\u001b[1m4/4\u001b[0m \u001b[32m━━━━━━━━━━━━━━━━━━━━\u001b[0m\u001b[37m\u001b[0m \u001b[1m0s\u001b[0m 17ms/step - accuracy: 0.9779 - loss: 0.0504\n",
      "Epoch 112/150\n",
      "\u001b[1m4/4\u001b[0m \u001b[32m━━━━━━━━━━━━━━━━━━━━\u001b[0m\u001b[37m\u001b[0m \u001b[1m0s\u001b[0m 11ms/step - accuracy: 0.9679 - loss: 0.0539\n",
      "Epoch 113/150\n",
      "\u001b[1m4/4\u001b[0m \u001b[32m━━━━━━━━━━━━━━━━━━━━\u001b[0m\u001b[37m\u001b[0m \u001b[1m0s\u001b[0m 11ms/step - accuracy: 0.9813 - loss: 0.0499\n",
      "Epoch 114/150\n",
      "\u001b[1m4/4\u001b[0m \u001b[32m━━━━━━━━━━━━━━━━━━━━\u001b[0m\u001b[37m\u001b[0m \u001b[1m0s\u001b[0m 14ms/step - accuracy: 0.9868 - loss: 0.0389\n",
      "Epoch 115/150\n",
      "\u001b[1m4/4\u001b[0m \u001b[32m━━━━━━━━━━━━━━━━━━━━\u001b[0m\u001b[37m\u001b[0m \u001b[1m0s\u001b[0m 18ms/step - accuracy: 0.9679 - loss: 0.0537\n",
      "Epoch 116/150\n",
      "\u001b[1m4/4\u001b[0m \u001b[32m━━━━━━━━━━━━━━━━━━━━\u001b[0m\u001b[37m\u001b[0m \u001b[1m0s\u001b[0m 8ms/step - accuracy: 0.9779 - loss: 0.0416 \n",
      "Epoch 117/150\n",
      "\u001b[1m4/4\u001b[0m \u001b[32m━━━━━━━━━━━━━━━━━━━━\u001b[0m\u001b[37m\u001b[0m \u001b[1m0s\u001b[0m 11ms/step - accuracy: 0.9879 - loss: 0.0459\n",
      "Epoch 118/150\n",
      "\u001b[1m4/4\u001b[0m \u001b[32m━━━━━━━━━━━━━━━━━━━━\u001b[0m\u001b[37m\u001b[0m \u001b[1m0s\u001b[0m 11ms/step - accuracy: 0.9813 - loss: 0.0379\n",
      "Epoch 119/150\n",
      "\u001b[1m4/4\u001b[0m \u001b[32m━━━━━━━━━━━━━━━━━━━━\u001b[0m\u001b[37m\u001b[0m \u001b[1m0s\u001b[0m 15ms/step - accuracy: 0.9779 - loss: 0.0461\n",
      "Epoch 120/150\n",
      "\u001b[1m4/4\u001b[0m \u001b[32m━━━━━━━━━━━━━━━━━━━━\u001b[0m\u001b[37m\u001b[0m \u001b[1m0s\u001b[0m 12ms/step - accuracy: 0.9746 - loss: 0.0566\n",
      "Epoch 121/150\n",
      "\u001b[1m4/4\u001b[0m \u001b[32m━━━━━━━━━━━━━━━━━━━━\u001b[0m\u001b[37m\u001b[0m \u001b[1m0s\u001b[0m 14ms/step - accuracy: 0.9846 - loss: 0.0431\n",
      "Epoch 122/150\n",
      "\u001b[1m4/4\u001b[0m \u001b[32m━━━━━━━━━━━━━━━━━━━━\u001b[0m\u001b[37m\u001b[0m \u001b[1m0s\u001b[0m 14ms/step - accuracy: 0.9879 - loss: 0.0392\n",
      "Epoch 123/150\n",
      "\u001b[1m4/4\u001b[0m \u001b[32m━━━━━━━━━━━━━━━━━━━━\u001b[0m\u001b[37m\u001b[0m \u001b[1m0s\u001b[0m 14ms/step - accuracy: 0.9679 - loss: 0.0516\n",
      "Epoch 124/150\n",
      "\u001b[1m4/4\u001b[0m \u001b[32m━━━━━━━━━━━━━━━━━━━━\u001b[0m\u001b[37m\u001b[0m \u001b[1m0s\u001b[0m 17ms/step - accuracy: 0.9679 - loss: 0.0552 \n",
      "Epoch 125/150\n",
      "\u001b[1m4/4\u001b[0m \u001b[32m━━━━━━━━━━━━━━━━━━━━\u001b[0m\u001b[37m\u001b[0m \u001b[1m0s\u001b[0m 11ms/step - accuracy: 0.9802 - loss: 0.0432\n",
      "Epoch 126/150\n",
      "\u001b[1m4/4\u001b[0m \u001b[32m━━━━━━━━━━━━━━━━━━━━\u001b[0m\u001b[37m\u001b[0m \u001b[1m0s\u001b[0m 18ms/step - accuracy: 0.9746 - loss: 0.0503 \n",
      "Epoch 127/150\n",
      "\u001b[1m4/4\u001b[0m \u001b[32m━━━━━━━━━━━━━━━━━━━━\u001b[0m\u001b[37m\u001b[0m \u001b[1m0s\u001b[0m 14ms/step - accuracy: 0.9746 - loss: 0.0538\n",
      "Epoch 128/150\n",
      "\u001b[1m4/4\u001b[0m \u001b[32m━━━━━━━━━━━━━━━━━━━━\u001b[0m\u001b[37m\u001b[0m \u001b[1m0s\u001b[0m 14ms/step - accuracy: 0.9962 - loss: 0.0443\n",
      "Epoch 129/150\n",
      "\u001b[1m4/4\u001b[0m \u001b[32m━━━━━━━━━━━━━━━━━━━━\u001b[0m\u001b[37m\u001b[0m \u001b[1m0s\u001b[0m 13ms/step - accuracy: 0.9940 - loss: 0.0352\n",
      "Epoch 130/150\n",
      "\u001b[1m4/4\u001b[0m \u001b[32m━━━━━━━━━━━━━━━━━━━━\u001b[0m\u001b[37m\u001b[0m \u001b[1m0s\u001b[0m 14ms/step - accuracy: 0.9940 - loss: 0.0405\n",
      "Epoch 131/150\n",
      "\u001b[1m4/4\u001b[0m \u001b[32m━━━━━━━━━━━━━━━━━━━━\u001b[0m\u001b[37m\u001b[0m \u001b[1m0s\u001b[0m 24ms/step - accuracy: 0.9840 - loss: 0.0514\n",
      "Epoch 132/150\n",
      "\u001b[1m4/4\u001b[0m \u001b[32m━━━━━━━━━━━━━━━━━━━━\u001b[0m\u001b[37m\u001b[0m \u001b[1m0s\u001b[0m 14ms/step - accuracy: 0.9940 - loss: 0.0436\n",
      "Epoch 133/150\n",
      "\u001b[1m4/4\u001b[0m \u001b[32m━━━━━━━━━━━━━━━━━━━━\u001b[0m\u001b[37m\u001b[0m \u001b[1m0s\u001b[0m 13ms/step - accuracy: 0.9906 - loss: 0.0395\n",
      "Epoch 134/150\n",
      "\u001b[1m4/4\u001b[0m \u001b[32m━━━━━━━━━━━━━━━━━━━━\u001b[0m\u001b[37m\u001b[0m \u001b[1m0s\u001b[0m 12ms/step - accuracy: 0.9902 - loss: 0.0356\n",
      "Epoch 135/150\n",
      "\u001b[1m4/4\u001b[0m \u001b[32m━━━━━━━━━━━━━━━━━━━━\u001b[0m\u001b[37m\u001b[0m \u001b[1m0s\u001b[0m 13ms/step - accuracy: 0.9840 - loss: 0.0461\n",
      "Epoch 136/150\n",
      "\u001b[1m4/4\u001b[0m \u001b[32m━━━━━━━━━━━━━━━━━━━━\u001b[0m\u001b[37m\u001b[0m \u001b[1m0s\u001b[0m 14ms/step - accuracy: 0.9962 - loss: 0.0400\n",
      "Epoch 137/150\n"
     ]
    },
    {
     "name": "stdout",
     "output_type": "stream",
     "text": [
      "\u001b[1m4/4\u001b[0m \u001b[32m━━━━━━━━━━━━━━━━━━━━\u001b[0m\u001b[37m\u001b[0m \u001b[1m0s\u001b[0m 14ms/step - accuracy: 0.9840 - loss: 0.0522\n",
      "Epoch 138/150\n",
      "\u001b[1m4/4\u001b[0m \u001b[32m━━━━━━━━━━━━━━━━━━━━\u001b[0m\u001b[37m\u001b[0m \u001b[1m0s\u001b[0m 15ms/step - accuracy: 0.9840 - loss: 0.0523\n",
      "Epoch 139/150\n",
      "\u001b[1m4/4\u001b[0m \u001b[32m━━━━━━━━━━━━━━━━━━━━\u001b[0m\u001b[37m\u001b[0m \u001b[1m0s\u001b[0m 16ms/step - accuracy: 0.9906 - loss: 0.0490\n",
      "Epoch 140/150\n",
      "\u001b[1m4/4\u001b[0m \u001b[32m━━━━━━━━━━━━━━━━━━━━\u001b[0m\u001b[37m\u001b[0m \u001b[1m0s\u001b[0m 12ms/step - accuracy: 0.9840 - loss: 0.0400\n",
      "Epoch 141/150\n",
      "\u001b[1m4/4\u001b[0m \u001b[32m━━━━━━━━━━━━━━━━━━━━\u001b[0m\u001b[37m\u001b[0m \u001b[1m0s\u001b[0m 20ms/step - accuracy: 0.9840 - loss: 0.0452\n",
      "Epoch 142/150\n",
      "\u001b[1m4/4\u001b[0m \u001b[32m━━━━━━━━━━━━━━━━━━━━\u001b[0m\u001b[37m\u001b[0m \u001b[1m0s\u001b[0m 12ms/step - accuracy: 0.9840 - loss: 0.0415\n",
      "Epoch 143/150\n",
      "\u001b[1m4/4\u001b[0m \u001b[32m━━━━━━━━━━━━━━━━━━━━\u001b[0m\u001b[37m\u001b[0m \u001b[1m0s\u001b[0m 17ms/step - accuracy: 0.9840 - loss: 0.0453\n",
      "Epoch 144/150\n",
      "\u001b[1m4/4\u001b[0m \u001b[32m━━━━━━━━━━━━━━━━━━━━\u001b[0m\u001b[37m\u001b[0m \u001b[1m0s\u001b[0m 12ms/step - accuracy: 0.9940 - loss: 0.0395\n",
      "Epoch 145/150\n",
      "\u001b[1m4/4\u001b[0m \u001b[32m━━━━━━━━━━━━━━━━━━━━\u001b[0m\u001b[37m\u001b[0m \u001b[1m0s\u001b[0m 11ms/step - accuracy: 0.9840 - loss: 0.0493\n",
      "Epoch 146/150\n",
      "\u001b[1m4/4\u001b[0m \u001b[32m━━━━━━━━━━━━━━━━━━━━\u001b[0m\u001b[37m\u001b[0m \u001b[1m0s\u001b[0m 9ms/step - accuracy: 0.9940 - loss: 0.0437 \n",
      "Epoch 147/150\n",
      "\u001b[1m4/4\u001b[0m \u001b[32m━━━━━━━━━━━━━━━━━━━━\u001b[0m\u001b[37m\u001b[0m \u001b[1m0s\u001b[0m 18ms/step - accuracy: 0.9940 - loss: 0.0472\n",
      "Epoch 148/150\n",
      "\u001b[1m4/4\u001b[0m \u001b[32m━━━━━━━━━━━━━━━━━━━━\u001b[0m\u001b[37m\u001b[0m \u001b[1m0s\u001b[0m 11ms/step - accuracy: 0.9940 - loss: 0.0458\n",
      "Epoch 149/150\n",
      "\u001b[1m4/4\u001b[0m \u001b[32m━━━━━━━━━━━━━━━━━━━━\u001b[0m\u001b[37m\u001b[0m \u001b[1m0s\u001b[0m 12ms/step - accuracy: 0.9940 - loss: 0.0373\n",
      "Epoch 150/150\n",
      "\u001b[1m4/4\u001b[0m \u001b[32m━━━━━━━━━━━━━━━━━━━━\u001b[0m\u001b[37m\u001b[0m \u001b[1m0s\u001b[0m 12ms/step - accuracy: 0.9840 - loss: 0.0340\n"
     ]
    },
    {
     "data": {
      "text/plain": [
       "<keras.src.callbacks.history.History at 0x1f94a3ce250>"
      ]
     },
     "execution_count": 56,
     "metadata": {},
     "output_type": "execute_result"
    }
   ],
   "source": [
    "model.fit(x_train,y_train,epochs=150,batch_size=30,verbose=1)"
   ]
  },
  {
   "cell_type": "code",
   "execution_count": 57,
   "id": "a876b9f4",
   "metadata": {},
   "outputs": [
    {
     "name": "stdout",
     "output_type": "stream",
     "text": [
      "2/2 - 0s - 36ms/step - accuracy: 0.9778 - loss: 0.0515\n"
     ]
    },
    {
     "data": {
      "text/plain": [
       "[0.05148854851722717, 0.9777777791023254]"
      ]
     },
     "execution_count": 57,
     "metadata": {},
     "output_type": "execute_result"
    }
   ],
   "source": [
    "model.evaluate(x_test,y_test,verbose=2)"
   ]
  },
  {
   "cell_type": "code",
   "execution_count": 58,
   "id": "2eca2944",
   "metadata": {},
   "outputs": [
    {
     "name": "stdout",
     "output_type": "stream",
     "text": [
      "\u001b[1m2/2\u001b[0m \u001b[32m━━━━━━━━━━━━━━━━━━━━\u001b[0m\u001b[37m\u001b[0m \u001b[1m0s\u001b[0m 105ms/step\n"
     ]
    }
   ],
   "source": [
    "y_predict=model.predict(x_test)"
   ]
  },
  {
   "cell_type": "code",
   "execution_count": 59,
   "id": "810fc008",
   "metadata": {},
   "outputs": [
    {
     "data": {
      "text/plain": [
       "array([[9.99788582e-01, 6.79398727e-05, 1.43517143e-04],\n",
       "       [9.99103189e-01, 2.53664533e-04, 6.43196807e-04],\n",
       "       [9.99363363e-01, 2.21012466e-04, 4.15662187e-04],\n",
       "       [1.17983152e-04, 3.25071275e-01, 6.74810708e-01],\n",
       "       [9.99123871e-01, 2.99274834e-04, 5.76875522e-04],\n",
       "       [7.88901525e-05, 5.37633803e-03, 9.94544864e-01],\n",
       "       [2.30843245e-04, 9.97390330e-01, 2.37879879e-03],\n",
       "       [2.77968198e-02, 9.59223151e-01, 1.29800197e-02],\n",
       "       [5.60710134e-07, 1.04940329e-04, 9.99894500e-01],\n",
       "       [9.99012470e-01, 2.95893988e-04, 6.91581634e-04],\n",
       "       [1.31100023e-04, 4.46265899e-02, 9.55242395e-01],\n",
       "       [5.05870674e-04, 9.91719961e-01, 7.77417934e-03],\n",
       "       [9.99435127e-01, 2.32055158e-04, 3.32732568e-04],\n",
       "       [1.00777070e-04, 9.99477446e-01, 4.21805744e-04],\n",
       "       [9.99697328e-01, 7.46102669e-05, 2.28066085e-04],\n",
       "       [4.78688617e-06, 7.39295036e-04, 9.99255955e-01],\n",
       "       [4.09755157e-04, 9.98989999e-01, 6.00182102e-04],\n",
       "       [9.99586880e-01, 6.20164064e-05, 3.51131166e-04],\n",
       "       [6.58547661e-11, 1.07154285e-07, 9.99999881e-01],\n",
       "       [1.10845570e-03, 9.82708693e-01, 1.61828063e-02],\n",
       "       [9.99172747e-01, 1.61169664e-04, 6.66126260e-04],\n",
       "       [9.99648690e-01, 1.64437559e-04, 1.86854610e-04],\n",
       "       [9.98759747e-01, 4.33473120e-04, 8.06819822e-04],\n",
       "       [2.07056873e-05, 9.99960542e-01, 1.87129863e-05],\n",
       "       [9.99603689e-01, 5.32410522e-05, 3.43068241e-04],\n",
       "       [5.04008553e-04, 9.95775163e-01, 3.72083322e-03],\n",
       "       [2.24512746e-03, 1.88496619e-01, 8.09258223e-01],\n",
       "       [3.42583028e-03, 9.89755332e-01, 6.81883609e-03],\n",
       "       [2.31703352e-02, 9.32679057e-01, 4.41506021e-02],\n",
       "       [2.14100578e-06, 2.41307949e-04, 9.99756515e-01],\n",
       "       [1.10593589e-06, 8.47979216e-04, 9.99150991e-01],\n",
       "       [1.04528546e-04, 9.91422117e-01, 8.47332366e-03],\n",
       "       [4.36797796e-04, 9.95032310e-01, 4.53085778e-03],\n",
       "       [2.62736268e-08, 1.68247880e-05, 9.99983191e-01],\n",
       "       [6.51422713e-04, 7.63787389e-01, 2.35561162e-01],\n",
       "       [2.66539352e-03, 9.87421513e-01, 9.91305988e-03],\n",
       "       [9.99725521e-01, 4.33761925e-05, 2.31063081e-04],\n",
       "       [9.97099757e-01, 1.36513251e-03, 1.53514452e-03],\n",
       "       [6.25415763e-04, 9.96273637e-01, 3.10093304e-03],\n",
       "       [2.41258694e-03, 9.87847447e-01, 9.73999687e-03],\n",
       "       [9.99473274e-01, 1.31083405e-04, 3.95743235e-04],\n",
       "       [9.99374568e-01, 1.34044923e-04, 4.91393614e-04],\n",
       "       [9.99316931e-01, 1.31519409e-04, 5.51564968e-04],\n",
       "       [9.99606431e-01, 7.11848334e-05, 3.22472042e-04],\n",
       "       [3.89030283e-05, 1.85000710e-03, 9.98111129e-01]], dtype=float32)"
      ]
     },
     "execution_count": 59,
     "metadata": {},
     "output_type": "execute_result"
    }
   ],
   "source": [
    "y_predict"
   ]
  },
  {
   "cell_type": "code",
   "execution_count": 60,
   "id": "cc27e980",
   "metadata": {},
   "outputs": [
    {
     "data": {
      "text/plain": [
       "(45, 3)"
      ]
     },
     "execution_count": 60,
     "metadata": {},
     "output_type": "execute_result"
    }
   ],
   "source": [
    "y_predict.shape"
   ]
  },
  {
   "cell_type": "code",
   "execution_count": 64,
   "id": "b2961999",
   "metadata": {},
   "outputs": [
    {
     "data": {
      "text/plain": [
       "array([9.9978858e-01, 6.7939873e-05, 1.4351714e-04], dtype=float32)"
      ]
     },
     "execution_count": 64,
     "metadata": {},
     "output_type": "execute_result"
    }
   ],
   "source": [
    "y_predict[0]"
   ]
  },
  {
   "cell_type": "code",
   "execution_count": 63,
   "id": "9bd037d2",
   "metadata": {},
   "outputs": [
    {
     "data": {
      "text/plain": [
       "0"
      ]
     },
     "execution_count": 63,
     "metadata": {},
     "output_type": "execute_result"
    }
   ],
   "source": [
    "from numpy import argmax\n",
    "classs=argmax(y_predict[0])\n",
    "classs"
   ]
  },
  {
   "cell_type": "code",
   "execution_count": 65,
   "id": "9fd2de9f",
   "metadata": {},
   "outputs": [
    {
     "data": {
      "text/plain": [
       "0"
      ]
     },
     "execution_count": 65,
     "metadata": {},
     "output_type": "execute_result"
    }
   ],
   "source": [
    "y_test[0]"
   ]
  },
  {
   "cell_type": "code",
   "execution_count": null,
   "id": "877ba097",
   "metadata": {},
   "outputs": [],
   "source": []
  }
 ],
 "metadata": {
  "kernelspec": {
   "display_name": "Python 3 (ipykernel)",
   "language": "python",
   "name": "python3"
  },
  "language_info": {
   "codemirror_mode": {
    "name": "ipython",
    "version": 3
   },
   "file_extension": ".py",
   "mimetype": "text/x-python",
   "name": "python",
   "nbconvert_exporter": "python",
   "pygments_lexer": "ipython3",
   "version": "3.11.5"
  }
 },
 "nbformat": 4,
 "nbformat_minor": 5
}
