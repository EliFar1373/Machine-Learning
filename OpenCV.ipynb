{
 "cells": [
  {
   "cell_type": "code",
   "execution_count": 8,
   "id": "f0314a07",
   "metadata": {},
   "outputs": [],
   "source": [
    "import cv2\n",
    "img=cv2.imread(r\"C:\\Users\\elham\\Desktop\\image\\th.jpg\")"
   ]
  },
  {
   "cell_type": "code",
   "execution_count": null,
   "id": "b9673bff",
   "metadata": {},
   "outputs": [
    {
     "name": "stdout",
     "output_type": "stream",
     "text": [
      "Image loaded successfully with shape: (1186, 1164, 3)\n"
     ]
    }
   ],
   "source": [
    "import cv2\n",
    "\n",
    "# Replace with the correct path to your image\n",
    "img = cv2.imread(r\"C:\\Users\\elham\\Desktop\\image\\h.jpg\")\n",
    "\n",
    "if img is None:\n",
    "    print(\"Failed to load image.\")\n",
    "else:\n",
    "    print(f\"Image loaded successfully with shape: {img.shape}\")\n",
    "    cv2.imshow(\"Output\", img)\n",
    "    cv2.waitKey(0)  # Wait until any key is pressed\n",
    "    cv2.destroyAllWindows()  # Close the window when done\n",
    "\n",
    "   "
   ]
  },
  {
   "cell_type": "code",
   "execution_count": null,
   "id": "5c69c290",
   "metadata": {},
   "outputs": [],
   "source": [
    "import os\n",
    "if not os.path.exists(r\"C:\\Users\\elham\\Desktop\\image\\h.jpg\"):\n",
    "    print(\"File does not exist!\")\n",
    "else:\n",
    "    print(2)\n"
   ]
  },
  {
   "cell_type": "code",
   "execution_count": 8,
   "id": "ce237cef",
   "metadata": {},
   "outputs": [
    {
     "ename": "error",
     "evalue": "OpenCV(4.10.0) D:\\a\\opencv-python\\opencv-python\\opencv\\modules\\highgui\\src\\window.cpp:973: error: (-215:Assertion failed) size.width>0 && size.height>0 in function 'cv::imshow'\n",
     "output_type": "error",
     "traceback": [
      "\u001b[1;31m---------------------------------------------------------------------------\u001b[0m",
      "\u001b[1;31merror\u001b[0m                                     Traceback (most recent call last)",
      "Cell \u001b[1;32mIn[8], line 5\u001b[0m\n\u001b[0;32m      3\u001b[0m \u001b[38;5;28;01mwhile\u001b[39;00m \u001b[38;5;28;01mTrue\u001b[39;00m:\n\u001b[0;32m      4\u001b[0m     success,img\u001b[38;5;241m=\u001b[39mcap\u001b[38;5;241m.\u001b[39mread()\n\u001b[1;32m----> 5\u001b[0m     cv2\u001b[38;5;241m.\u001b[39mimshow(\u001b[38;5;124m\"\u001b[39m\u001b[38;5;124moutput\u001b[39m\u001b[38;5;124m\"\u001b[39m,img)\n\u001b[0;32m      6\u001b[0m     \u001b[38;5;28;01mif\u001b[39;00m cv2\u001b[38;5;241m.\u001b[39mwaitKey(\u001b[38;5;241m1\u001b[39m) \u001b[38;5;241m&\u001b[39m\u001b[38;5;241m0xFF\u001b[39m\u001b[38;5;241m==\u001b[39m\u001b[38;5;28mord\u001b[39m(\u001b[38;5;124m'\u001b[39m\u001b[38;5;124mq\u001b[39m\u001b[38;5;124m'\u001b[39m):\n\u001b[0;32m      7\u001b[0m         \u001b[38;5;28;01mbreak\u001b[39;00m\n",
      "\u001b[1;31merror\u001b[0m: OpenCV(4.10.0) D:\\a\\opencv-python\\opencv-python\\opencv\\modules\\highgui\\src\\window.cpp:973: error: (-215:Assertion failed) size.width>0 && size.height>0 in function 'cv::imshow'\n"
     ]
    }
   ],
   "source": [
    "import cv2\n",
    "cap=cv2.VideoCapture(r\"C:\\Users\\elham\\Desktop\\image\\video.mp4\")\n",
    "while True:\n",
    "    success,img=cap.read()\n",
    "    cv2.imshow(\"output\",img)\n",
    "    if cv2.waitKey(1) &0xFF==ord('q'):\n",
    "        break\n",
    "cap.release()\n",
    "cv2.destroyAllWindows()\n"
   ]
  },
  {
   "cell_type": "code",
   "execution_count": 1,
   "id": "a8f890d0",
   "metadata": {},
   "outputs": [
    {
     "ename": "error",
     "evalue": "OpenCV(4.10.0) D:\\a\\opencv-python\\opencv-python\\opencv\\modules\\highgui\\src\\window.cpp:973: error: (-215:Assertion failed) size.width>0 && size.height>0 in function 'cv::imshow'\n",
     "output_type": "error",
     "traceback": [
      "\u001b[1;31m---------------------------------------------------------------------------\u001b[0m",
      "\u001b[1;31merror\u001b[0m                                     Traceback (most recent call last)",
      "Cell \u001b[1;32mIn[1], line 9\u001b[0m\n\u001b[0;32m      7\u001b[0m \u001b[38;5;28;01mwhile\u001b[39;00m \u001b[38;5;28;01mTrue\u001b[39;00m:\n\u001b[0;32m      8\u001b[0m     success, img\u001b[38;5;241m=\u001b[39mcap\u001b[38;5;241m.\u001b[39mread()\n\u001b[1;32m----> 9\u001b[0m     cv2\u001b[38;5;241m.\u001b[39mimshow(\u001b[38;5;124m\"\u001b[39m\u001b[38;5;124mshow\u001b[39m\u001b[38;5;124m\"\u001b[39m,img)\n\u001b[0;32m     10\u001b[0m     \u001b[38;5;28;01mif\u001b[39;00m cv2\u001b[38;5;241m.\u001b[39mwaitKey(\u001b[38;5;241m1\u001b[39m) \u001b[38;5;241m&\u001b[39m \u001b[38;5;241m0xFF\u001b[39m\u001b[38;5;241m==\u001b[39m\u001b[38;5;28mord\u001b[39m(\u001b[38;5;124m'\u001b[39m\u001b[38;5;124mq\u001b[39m\u001b[38;5;124m'\u001b[39m):\n\u001b[0;32m     11\u001b[0m         \u001b[38;5;28;01mbreak\u001b[39;00m\n",
      "\u001b[1;31merror\u001b[0m: OpenCV(4.10.0) D:\\a\\opencv-python\\opencv-python\\opencv\\modules\\highgui\\src\\window.cpp:973: error: (-215:Assertion failed) size.width>0 && size.height>0 in function 'cv::imshow'\n"
     ]
    }
   ],
   "source": [
    "\n",
    "import cv2\n",
    "cap=cv2.VideoCapture(1)\n",
    "cap.set(3,500)\n",
    "cap.set(4,500)\n",
    "cap.set(10,100)\n",
    "\n",
    "while True:\n",
    "    success, img=cap.read()\n",
    "    cv2.imshow(\"show\",img)\n",
    "    if cv2.waitKey(1) & 0xFF==ord('q'):\n",
    "        break"
   ]
  },
  {
   "cell_type": "code",
   "execution_count": 7,
   "id": "81271151",
   "metadata": {},
   "outputs": [
    {
     "name": "stdout",
     "output_type": "stream",
     "text": [
      "End of video or error reading frame.\n"
     ]
    }
   ],
   "source": [
    "import cv2\n",
    "\n",
    "# Path to the video file\n",
    "video_path = r\"C:\\Users\\elham\\Desktop\\image\\video.mp4\"\n",
    "\n",
    "# Open the video capture\n",
    "cap = cv2.VideoCapture(video_path)\n",
    "\n",
    "# Check if the video file was successfully opened\n",
    "\n",
    "while True:\n",
    "        # Read the next frame\n",
    "        success, img = cap.read()\n",
    "\n",
    "        # Check if frame reading was successful\n",
    "        if not success:\n",
    "            print(\"End of video or error reading frame.\")\n",
    "            break\n",
    "\n",
    "        # Display the frame in a window\n",
    "        cv2.imshow(\"Output\", img)\n",
    "\n",
    "        # Exit the loop if 'q' is pressed\n",
    "        if cv2.waitKey(1) & 0xFF == ord('q'):\n",
    "            print(\"Exiting video playback.\")\n",
    "            break\n",
    "\n",
    "    # Release the video capture object and close display windows\n",
    "cap.release()\n",
    "cv2.destroyAllWindows()\n"
   ]
  },
  {
   "cell_type": "code",
   "execution_count": 6,
   "id": "f415f0a7",
   "metadata": {},
   "outputs": [
    {
     "data": {
      "text/plain": [
       "-1"
      ]
     },
     "execution_count": 6,
     "metadata": {},
     "output_type": "execute_result"
    }
   ],
   "source": [
    "import cv2\n",
    "img=cv2.imread(r\"C:\\Users\\elham\\Desktop\\image\\h.jpg\")\n",
    "imgGray=cv2.cvtColor(img,cv2.COLOR_BGR2GRAY)\n",
    "cv2.imshow(\"gray image\",imgGray)\n",
    "cv2.waitKey(0)"
   ]
  },
  {
   "cell_type": "code",
   "execution_count": 9,
   "id": "96699edc",
   "metadata": {},
   "outputs": [
    {
     "data": {
      "text/plain": [
       "-1"
      ]
     },
     "execution_count": 9,
     "metadata": {},
     "output_type": "execute_result"
    }
   ],
   "source": [
    "import cv2\n",
    "img=cv2.imread(r\"C:\\Users\\elham\\Desktop\\image\\h.jpg\")\n",
    "imgGray=cv2.cvtColor(img,cv2.COLOR_RGB2GRAY)\n",
    "imgblur=cv2.GaussianBlur(imgGray,(7,7),0)\n",
    "cv2.imshow(\"blurr gray\",imgblur)\n",
    "cv2.waitKey(0)"
   ]
  },
  {
   "cell_type": "code",
   "execution_count": 12,
   "id": "1451b9af",
   "metadata": {},
   "outputs": [
    {
     "data": {
      "text/plain": [
       "-1"
      ]
     },
     "execution_count": 12,
     "metadata": {},
     "output_type": "execute_result"
    }
   ],
   "source": [
    "import cv2\n",
    "img=cv2.imread(r\"C:\\Users\\elham\\Desktop\\image\\h.jpg\")\n",
    "imgGray=cv2.cvtColor(img,cv2.COLOR_RGB2GRAY)\n",
    "imgblur=cv2.GaussianBlur(imgGray,(7,7),0)\n",
    "imgcanny=cv2.Canny(img,100,100)\n",
    "\n",
    "cv2.imshow(\"canny\",imgcanny)\n",
    "cv2.imshow(\"blur\",imgblur)\n",
    "cv2.imshow(\"gray\",imgGray)\n",
    "cv2.waitKey(0)"
   ]
  },
  {
   "cell_type": "code",
   "execution_count": null,
   "id": "7f5a343c",
   "metadata": {},
   "outputs": [],
   "source": [
    "import cv2\n",
    "import numpy as np\n",
    "img=cv2.imread(r\"C:\\Users\\elham\\Desktop\\image\\h.jpg\")\n",
    "kernel=np.ones((5,5),np.uint8)\n",
    "\n",
    "imggray=cv2.cvtColor(img,cv2.COLOR_RGB2GRAY)\n",
    "imgblur=cv2.GaussianBlur(imggray,(7,7),0)\n",
    "imgcanny=cv2.Canny(img,150,200)\n",
    "imgDialation=cv2.dilate(imgcanny,kernel,iterations=1)\n",
    "imgErroded=cv2.erode(imgDialation,kernel,iterations=1)\n",
    "cv2.imshow(\"canny\",imgcanny)\n",
    "cv2.imshow(\"imgDialation\",imgDialation)\n",
    "cv2.imshow(\"imgErroded\",imgErroded)\n",
    "cv2.waitKey(0)\n",
    "\n"
   ]
  },
  {
   "cell_type": "code",
   "execution_count": 8,
   "id": "8050aa72",
   "metadata": {},
   "outputs": [
    {
     "name": "stdout",
     "output_type": "stream",
     "text": [
      "(1186, 1164, 3)\n",
      "(300, 300, 3)\n"
     ]
    },
    {
     "data": {
      "text/plain": [
       "-1"
      ]
     },
     "execution_count": 8,
     "metadata": {},
     "output_type": "execute_result"
    }
   ],
   "source": [
    "import cv2\n",
    "img=cv2.imread(r\"C:\\Users\\elham\\Desktop\\image\\h.jpg\")\n",
    "print(img.shape)\n",
    "\n",
    "imgResize=cv2.resize(img,(300,300))\n",
    "print(imgResize.shape)\n",
    "\n",
    "imgcropped=img[0:200,300:700]\n",
    "\n",
    "cv2.imshow(\"imag\",img)\n",
    "cv2.imshow(\"resized\",imgResize)\n",
    "cv2.imshow(\"cropped\",imgcropped)\n",
    "cv2.waitKey(0)\n"
   ]
  },
  {
   "cell_type": "code",
   "execution_count": 18,
   "id": "2c6fef2a",
   "metadata": {},
   "outputs": [
    {
     "name": "stdout",
     "output_type": "stream",
     "text": [
      "(512, 512, 3)\n"
     ]
    },
    {
     "data": {
      "text/plain": [
       "-1"
      ]
     },
     "execution_count": 18,
     "metadata": {},
     "output_type": "execute_result"
    }
   ],
   "source": [
    "import numpy as np \n",
    "import cv2\n",
    "img=np.zeros((512,512,3),np.uint8)\n",
    "img[:]=255,0,0\n",
    "print(img.shape)\n",
    "cv2.imshow(\"img\",img)\n",
    "cv2.waitKey(0)"
   ]
  },
  {
   "cell_type": "code",
   "execution_count": 19,
   "id": "2aebb5be",
   "metadata": {},
   "outputs": [
    {
     "name": "stdout",
     "output_type": "stream",
     "text": [
      "(512, 512, 3)\n"
     ]
    },
    {
     "data": {
      "text/plain": [
       "-1"
      ]
     },
     "execution_count": 19,
     "metadata": {},
     "output_type": "execute_result"
    }
   ],
   "source": [
    "import numpy as np \n",
    "import cv2\n",
    "img=np.zeros((512,512,3),np.uint8)\n",
    "cv2.line(img,(0,0),(200,200),(0,255,0),4)\n",
    "print(img.shape)\n",
    "cv2.imshow(\"img\",img)\n",
    "cv2.waitKey(0)"
   ]
  },
  {
   "cell_type": "code",
   "execution_count": 30,
   "id": "d8777963",
   "metadata": {},
   "outputs": [
    {
     "name": "stdout",
     "output_type": "stream",
     "text": [
      "(512, 512, 3)\n"
     ]
    },
    {
     "data": {
      "text/plain": [
       "-1"
      ]
     },
     "execution_count": 30,
     "metadata": {},
     "output_type": "execute_result"
    }
   ],
   "source": [
    "import numpy as np \n",
    "import cv2\n",
    "img=np.zeros((512,512,3),np.uint8)\n",
    "cv2.line(img,(0,0),(img.shape[1],img.shape[0]),(0,255,0),4)\n",
    "cv2.rectangle(img,(0,0),(100,100),(255,0,0),cv2.FILLED)\n",
    "cv2.circle(img,(150,115),30,(112,234,45),5)\n",
    "cv2.putText(img, \"EE\", (200, 200), cv2.FONT_HERSHEY_COMPLEX, 1, (0, 120, 20), 1)\n",
    "\n",
    "print(img.shape)\n",
    "cv2.imshow(\"img\",img)\n",
    "cv2.waitKey(0)"
   ]
  },
  {
   "cell_type": "code",
   "execution_count": null,
   "id": "fa1d29a0",
   "metadata": {},
   "outputs": [],
   "source": []
  }
 ],
 "metadata": {
  "kernelspec": {
   "display_name": "Python 3 (ipykernel)",
   "language": "python",
   "name": "python3"
  },
  "language_info": {
   "codemirror_mode": {
    "name": "ipython",
    "version": 3
   },
   "file_extension": ".py",
   "mimetype": "text/x-python",
   "name": "python",
   "nbconvert_exporter": "python",
   "pygments_lexer": "ipython3",
   "version": "3.11.5"
  }
 },
 "nbformat": 4,
 "nbformat_minor": 5
}
